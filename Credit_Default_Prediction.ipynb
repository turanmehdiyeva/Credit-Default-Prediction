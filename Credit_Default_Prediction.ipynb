{
 "cells": [
  {
   "cell_type": "markdown",
   "id": "cc4a8849",
   "metadata": {
    "id": "cc4a8849"
   },
   "source": [
    "# Credit Default Prediction\n",
    "\n",
    "Data Set Information: The training data contains 22500 observations with the predictor variables as well as the response variable. The test set contains 7500 observations with the response variable removed.\n",
    "\n",
    "Task: Predict the response variable (default status) for the test data.\n",
    "\n",
    "***IMPORTANT: Please include the variable \"ID\" in the prediction, so that model accuracy can be evaluated.***\n",
    "\n",
    "Variable descriptions: This research employed a binary variable, default payment (Yes = 1, No = 0), as the response variable.\n",
    "\n",
    "This study reviewed the literature and used the following 23 variables as explanatory variables:\n",
    "\n",
    "X1: Amount of the given credit (NT dollar): it includes both the individual consumer credit and his/her family (supplementary) credit.\n",
    "\n",
    "X2: Gender (1 = male; 2 = female).\n",
    "\n",
    "X3: Education (1 = graduate school; 2 = university; 3 = high school; 4 = others).\n",
    "\n",
    "X4: Marital status (1 = married; 2 = single; 3 = others).\n",
    "\n",
    "X5: Age (year).\n",
    "\n",
    "X6 - X11: History of past payment. We tracked the past monthly payment records (from April to September, 2005) as follows:\n",
    "\n",
    "X6 = the repayment status in September, 2005;\n",
    "\n",
    "X7 = the repayment status in August, 2005; . . .;\n",
    "\n",
    "X11 = the repayment status in April, 2005. The measurement scale for the repayment status is:\n",
    "\n",
    "-1 = pay duly;\n",
    "\n",
    "1 = payment delay for one month;\n",
    "\n",
    "2 = payment delay for two months; . . .;\n",
    "\n",
    "8 = payment delay for eight months;\n",
    "\n",
    "9 = payment delay for nine months and above.\n",
    "\n",
    "-2 = indicates no consumption in the month, and a value of\n",
    "\n",
    "0 = indicates the use of revolving credit (equivalent to prepayment)\n",
    "\n",
    "X12-X17: Amount of bill statement (NT dollar).\n",
    "\n",
    "X12 = amount of bill statement in September, 2005;\n",
    "\n",
    "X13 = amount of bill statement in August, 2005; . . .;\n",
    "\n",
    "X17 = amount of bill statement in April, 2005.\n",
    "\n",
    "X18-X23: Amount of previous payment (NT dollar).\n",
    "\n",
    "X18 = amount paid in September, 2005;\n",
    "\n",
    "X19 = amount paid in August, 2005; . . .;\n",
    "\n",
    "X23 = amount paid in April, 2005.\n",
    "\n",
    "## The below Report is divided into 3 main sections namely:\n",
    "\n",
    "### 1. Initialize Libraries, Load Data & Preprocess\n",
    "### 2. Exploratory Data Analysis and Visualization\n",
    "### 3. Predictive Modeling\n",
    "\n",
    "###Goal of the study is to create a model that predicts if a client will default on credit card payment in next month.\n",
    "\n",
    "###This is a Supervised binary classification problem. Where Defaulter Yes(1) or No(0) is the dependant variable\n",
    "To find the predictability of a defaulter our main objective is to find what features can play a role to predict a credit card defaulter? Therefore we need to find answers to some questions like:"
   ]
  },
  {
   "cell_type": "code",
   "execution_count": 1,
   "id": "6d8e208c",
   "metadata": {
    "id": "6d8e208c"
   },
   "outputs": [],
   "source": [
    "import pandas as pd\n",
    "import numpy as np\n",
    "import matplotlib.pyplot as plt\n",
    "import seaborn as sns\n",
    "import warnings\n",
    "warnings.filterwarnings('ignore') \n",
    "%matplotlib inline"
   ]
  },
  {
   "cell_type": "code",
   "execution_count": 2,
   "id": "2fda02c3",
   "metadata": {
    "colab": {
     "base_uri": "https://localhost:8080/",
     "height": 275
    },
    "id": "2fda02c3",
    "outputId": "2df7a74f-43e0-4edc-bee8-251d8a6f99cb"
   },
   "outputs": [
    {
     "data": {
      "text/html": [
       "<div>\n",
       "<style scoped>\n",
       "    .dataframe tbody tr th:only-of-type {\n",
       "        vertical-align: middle;\n",
       "    }\n",
       "\n",
       "    .dataframe tbody tr th {\n",
       "        vertical-align: top;\n",
       "    }\n",
       "\n",
       "    .dataframe thead th {\n",
       "        text-align: right;\n",
       "    }\n",
       "</style>\n",
       "<table border=\"1\" class=\"dataframe\">\n",
       "  <thead>\n",
       "    <tr style=\"text-align: right;\">\n",
       "      <th></th>\n",
       "      <th>ID</th>\n",
       "      <th>LIMIT_BAL</th>\n",
       "      <th>SEX</th>\n",
       "      <th>EDUCATION</th>\n",
       "      <th>MARRIAGE</th>\n",
       "      <th>AGE</th>\n",
       "      <th>PAY_0</th>\n",
       "      <th>PAY_2</th>\n",
       "      <th>PAY_3</th>\n",
       "      <th>PAY_4</th>\n",
       "      <th>...</th>\n",
       "      <th>BILL_AMT4</th>\n",
       "      <th>BILL_AMT5</th>\n",
       "      <th>BILL_AMT6</th>\n",
       "      <th>PAY_AMT1</th>\n",
       "      <th>PAY_AMT2</th>\n",
       "      <th>PAY_AMT3</th>\n",
       "      <th>PAY_AMT4</th>\n",
       "      <th>PAY_AMT5</th>\n",
       "      <th>PAY_AMT6</th>\n",
       "      <th>default payment next month</th>\n",
       "    </tr>\n",
       "  </thead>\n",
       "  <tbody>\n",
       "    <tr>\n",
       "      <th>0</th>\n",
       "      <td>1</td>\n",
       "      <td>20000</td>\n",
       "      <td>2</td>\n",
       "      <td>2</td>\n",
       "      <td>1</td>\n",
       "      <td>24</td>\n",
       "      <td>2</td>\n",
       "      <td>2</td>\n",
       "      <td>-1</td>\n",
       "      <td>-1</td>\n",
       "      <td>...</td>\n",
       "      <td>0</td>\n",
       "      <td>0</td>\n",
       "      <td>0</td>\n",
       "      <td>0</td>\n",
       "      <td>689</td>\n",
       "      <td>0</td>\n",
       "      <td>0</td>\n",
       "      <td>0</td>\n",
       "      <td>0</td>\n",
       "      <td>1</td>\n",
       "    </tr>\n",
       "    <tr>\n",
       "      <th>1</th>\n",
       "      <td>2</td>\n",
       "      <td>120000</td>\n",
       "      <td>2</td>\n",
       "      <td>2</td>\n",
       "      <td>2</td>\n",
       "      <td>26</td>\n",
       "      <td>-1</td>\n",
       "      <td>2</td>\n",
       "      <td>0</td>\n",
       "      <td>0</td>\n",
       "      <td>...</td>\n",
       "      <td>3272</td>\n",
       "      <td>3455</td>\n",
       "      <td>3261</td>\n",
       "      <td>0</td>\n",
       "      <td>1000</td>\n",
       "      <td>1000</td>\n",
       "      <td>1000</td>\n",
       "      <td>0</td>\n",
       "      <td>2000</td>\n",
       "      <td>1</td>\n",
       "    </tr>\n",
       "    <tr>\n",
       "      <th>2</th>\n",
       "      <td>3</td>\n",
       "      <td>90000</td>\n",
       "      <td>2</td>\n",
       "      <td>2</td>\n",
       "      <td>2</td>\n",
       "      <td>34</td>\n",
       "      <td>0</td>\n",
       "      <td>0</td>\n",
       "      <td>0</td>\n",
       "      <td>0</td>\n",
       "      <td>...</td>\n",
       "      <td>14331</td>\n",
       "      <td>14948</td>\n",
       "      <td>15549</td>\n",
       "      <td>1518</td>\n",
       "      <td>1500</td>\n",
       "      <td>1000</td>\n",
       "      <td>1000</td>\n",
       "      <td>1000</td>\n",
       "      <td>5000</td>\n",
       "      <td>0</td>\n",
       "    </tr>\n",
       "    <tr>\n",
       "      <th>3</th>\n",
       "      <td>4</td>\n",
       "      <td>50000</td>\n",
       "      <td>2</td>\n",
       "      <td>2</td>\n",
       "      <td>1</td>\n",
       "      <td>37</td>\n",
       "      <td>0</td>\n",
       "      <td>0</td>\n",
       "      <td>0</td>\n",
       "      <td>0</td>\n",
       "      <td>...</td>\n",
       "      <td>28314</td>\n",
       "      <td>28959</td>\n",
       "      <td>29547</td>\n",
       "      <td>2000</td>\n",
       "      <td>2019</td>\n",
       "      <td>1200</td>\n",
       "      <td>1100</td>\n",
       "      <td>1069</td>\n",
       "      <td>1000</td>\n",
       "      <td>0</td>\n",
       "    </tr>\n",
       "    <tr>\n",
       "      <th>4</th>\n",
       "      <td>5</td>\n",
       "      <td>50000</td>\n",
       "      <td>1</td>\n",
       "      <td>2</td>\n",
       "      <td>1</td>\n",
       "      <td>57</td>\n",
       "      <td>-1</td>\n",
       "      <td>0</td>\n",
       "      <td>-1</td>\n",
       "      <td>0</td>\n",
       "      <td>...</td>\n",
       "      <td>20940</td>\n",
       "      <td>19146</td>\n",
       "      <td>19131</td>\n",
       "      <td>2000</td>\n",
       "      <td>36681</td>\n",
       "      <td>10000</td>\n",
       "      <td>9000</td>\n",
       "      <td>689</td>\n",
       "      <td>679</td>\n",
       "      <td>0</td>\n",
       "    </tr>\n",
       "  </tbody>\n",
       "</table>\n",
       "<p>5 rows × 25 columns</p>\n",
       "</div>"
      ],
      "text/plain": [
       "   ID  LIMIT_BAL  SEX  EDUCATION  MARRIAGE  AGE  PAY_0  PAY_2  PAY_3  PAY_4  \\\n",
       "0   1      20000    2          2         1   24      2      2     -1     -1   \n",
       "1   2     120000    2          2         2   26     -1      2      0      0   \n",
       "2   3      90000    2          2         2   34      0      0      0      0   \n",
       "3   4      50000    2          2         1   37      0      0      0      0   \n",
       "4   5      50000    1          2         1   57     -1      0     -1      0   \n",
       "\n",
       "   ...  BILL_AMT4  BILL_AMT5  BILL_AMT6  PAY_AMT1  PAY_AMT2  PAY_AMT3  \\\n",
       "0  ...          0          0          0         0       689         0   \n",
       "1  ...       3272       3455       3261         0      1000      1000   \n",
       "2  ...      14331      14948      15549      1518      1500      1000   \n",
       "3  ...      28314      28959      29547      2000      2019      1200   \n",
       "4  ...      20940      19146      19131      2000     36681     10000   \n",
       "\n",
       "   PAY_AMT4  PAY_AMT5  PAY_AMT6  default payment next month  \n",
       "0         0         0         0                           1  \n",
       "1      1000         0      2000                           1  \n",
       "2      1000      1000      5000                           0  \n",
       "3      1100      1069      1000                           0  \n",
       "4      9000       689       679                           0  \n",
       "\n",
       "[5 rows x 25 columns]"
      ]
     },
     "execution_count": 2,
     "metadata": {},
     "output_type": "execute_result"
    }
   ],
   "source": [
    "loan = pd.read_csv(r'C:\\Users\\turan\\Desktop\\Kaggle/credit_card_default_TRAIN.csv', header=1)\n",
    "loan1 = pd.read_csv(r'C:\\Users\\turan\\Desktop\\Kaggle/credit_card_default_TRAIN.csv')\n",
    "loan.head()"
   ]
  },
  {
   "cell_type": "code",
   "execution_count": 3,
   "id": "bf0e1d2e",
   "metadata": {
    "colab": {
     "base_uri": "https://localhost:8080/",
     "height": 824
    },
    "id": "bf0e1d2e",
    "outputId": "f6c67ceb-4904-4add-c9eb-992c1ef32b65"
   },
   "outputs": [
    {
     "data": {
      "text/html": [
       "<div>\n",
       "<style scoped>\n",
       "    .dataframe tbody tr th:only-of-type {\n",
       "        vertical-align: middle;\n",
       "    }\n",
       "\n",
       "    .dataframe tbody tr th {\n",
       "        vertical-align: top;\n",
       "    }\n",
       "\n",
       "    .dataframe thead th {\n",
       "        text-align: right;\n",
       "    }\n",
       "</style>\n",
       "<table border=\"1\" class=\"dataframe\">\n",
       "  <thead>\n",
       "    <tr style=\"text-align: right;\">\n",
       "      <th></th>\n",
       "      <th>0</th>\n",
       "      <th>1</th>\n",
       "      <th>2</th>\n",
       "      <th>3</th>\n",
       "      <th>4</th>\n",
       "    </tr>\n",
       "  </thead>\n",
       "  <tbody>\n",
       "    <tr>\n",
       "      <th>Variable</th>\n",
       "      <td>ID</td>\n",
       "      <td>1</td>\n",
       "      <td>2</td>\n",
       "      <td>3</td>\n",
       "      <td>4</td>\n",
       "    </tr>\n",
       "    <tr>\n",
       "      <th>X1</th>\n",
       "      <td>LIMIT_BAL</td>\n",
       "      <td>20000</td>\n",
       "      <td>120000</td>\n",
       "      <td>90000</td>\n",
       "      <td>50000</td>\n",
       "    </tr>\n",
       "    <tr>\n",
       "      <th>X2</th>\n",
       "      <td>SEX</td>\n",
       "      <td>2</td>\n",
       "      <td>2</td>\n",
       "      <td>2</td>\n",
       "      <td>2</td>\n",
       "    </tr>\n",
       "    <tr>\n",
       "      <th>X3</th>\n",
       "      <td>EDUCATION</td>\n",
       "      <td>2</td>\n",
       "      <td>2</td>\n",
       "      <td>2</td>\n",
       "      <td>2</td>\n",
       "    </tr>\n",
       "    <tr>\n",
       "      <th>X4</th>\n",
       "      <td>MARRIAGE</td>\n",
       "      <td>1</td>\n",
       "      <td>2</td>\n",
       "      <td>2</td>\n",
       "      <td>1</td>\n",
       "    </tr>\n",
       "    <tr>\n",
       "      <th>X5</th>\n",
       "      <td>AGE</td>\n",
       "      <td>24</td>\n",
       "      <td>26</td>\n",
       "      <td>34</td>\n",
       "      <td>37</td>\n",
       "    </tr>\n",
       "    <tr>\n",
       "      <th>X6</th>\n",
       "      <td>PAY_0</td>\n",
       "      <td>2</td>\n",
       "      <td>-1</td>\n",
       "      <td>0</td>\n",
       "      <td>0</td>\n",
       "    </tr>\n",
       "    <tr>\n",
       "      <th>X7</th>\n",
       "      <td>PAY_2</td>\n",
       "      <td>2</td>\n",
       "      <td>2</td>\n",
       "      <td>0</td>\n",
       "      <td>0</td>\n",
       "    </tr>\n",
       "    <tr>\n",
       "      <th>X8</th>\n",
       "      <td>PAY_3</td>\n",
       "      <td>-1</td>\n",
       "      <td>0</td>\n",
       "      <td>0</td>\n",
       "      <td>0</td>\n",
       "    </tr>\n",
       "    <tr>\n",
       "      <th>X9</th>\n",
       "      <td>PAY_4</td>\n",
       "      <td>-1</td>\n",
       "      <td>0</td>\n",
       "      <td>0</td>\n",
       "      <td>0</td>\n",
       "    </tr>\n",
       "    <tr>\n",
       "      <th>X10</th>\n",
       "      <td>PAY_5</td>\n",
       "      <td>-2</td>\n",
       "      <td>0</td>\n",
       "      <td>0</td>\n",
       "      <td>0</td>\n",
       "    </tr>\n",
       "    <tr>\n",
       "      <th>X11</th>\n",
       "      <td>PAY_6</td>\n",
       "      <td>-2</td>\n",
       "      <td>2</td>\n",
       "      <td>0</td>\n",
       "      <td>0</td>\n",
       "    </tr>\n",
       "    <tr>\n",
       "      <th>X12</th>\n",
       "      <td>BILL_AMT1</td>\n",
       "      <td>3913</td>\n",
       "      <td>2682</td>\n",
       "      <td>29239</td>\n",
       "      <td>46990</td>\n",
       "    </tr>\n",
       "    <tr>\n",
       "      <th>X13</th>\n",
       "      <td>BILL_AMT2</td>\n",
       "      <td>3102</td>\n",
       "      <td>1725</td>\n",
       "      <td>14027</td>\n",
       "      <td>48233</td>\n",
       "    </tr>\n",
       "    <tr>\n",
       "      <th>X14</th>\n",
       "      <td>BILL_AMT3</td>\n",
       "      <td>689</td>\n",
       "      <td>2682</td>\n",
       "      <td>13559</td>\n",
       "      <td>49291</td>\n",
       "    </tr>\n",
       "    <tr>\n",
       "      <th>X15</th>\n",
       "      <td>BILL_AMT4</td>\n",
       "      <td>0</td>\n",
       "      <td>3272</td>\n",
       "      <td>14331</td>\n",
       "      <td>28314</td>\n",
       "    </tr>\n",
       "    <tr>\n",
       "      <th>X16</th>\n",
       "      <td>BILL_AMT5</td>\n",
       "      <td>0</td>\n",
       "      <td>3455</td>\n",
       "      <td>14948</td>\n",
       "      <td>28959</td>\n",
       "    </tr>\n",
       "    <tr>\n",
       "      <th>X17</th>\n",
       "      <td>BILL_AMT6</td>\n",
       "      <td>0</td>\n",
       "      <td>3261</td>\n",
       "      <td>15549</td>\n",
       "      <td>29547</td>\n",
       "    </tr>\n",
       "    <tr>\n",
       "      <th>X18</th>\n",
       "      <td>PAY_AMT1</td>\n",
       "      <td>0</td>\n",
       "      <td>0</td>\n",
       "      <td>1518</td>\n",
       "      <td>2000</td>\n",
       "    </tr>\n",
       "    <tr>\n",
       "      <th>X19</th>\n",
       "      <td>PAY_AMT2</td>\n",
       "      <td>689</td>\n",
       "      <td>1000</td>\n",
       "      <td>1500</td>\n",
       "      <td>2019</td>\n",
       "    </tr>\n",
       "    <tr>\n",
       "      <th>X20</th>\n",
       "      <td>PAY_AMT3</td>\n",
       "      <td>0</td>\n",
       "      <td>1000</td>\n",
       "      <td>1000</td>\n",
       "      <td>1200</td>\n",
       "    </tr>\n",
       "    <tr>\n",
       "      <th>X21</th>\n",
       "      <td>PAY_AMT4</td>\n",
       "      <td>0</td>\n",
       "      <td>1000</td>\n",
       "      <td>1000</td>\n",
       "      <td>1100</td>\n",
       "    </tr>\n",
       "    <tr>\n",
       "      <th>X22</th>\n",
       "      <td>PAY_AMT5</td>\n",
       "      <td>0</td>\n",
       "      <td>0</td>\n",
       "      <td>1000</td>\n",
       "      <td>1069</td>\n",
       "    </tr>\n",
       "    <tr>\n",
       "      <th>X23</th>\n",
       "      <td>PAY_AMT6</td>\n",
       "      <td>0</td>\n",
       "      <td>2000</td>\n",
       "      <td>5000</td>\n",
       "      <td>1000</td>\n",
       "    </tr>\n",
       "    <tr>\n",
       "      <th>Y</th>\n",
       "      <td>default payment next month</td>\n",
       "      <td>1</td>\n",
       "      <td>1</td>\n",
       "      <td>0</td>\n",
       "      <td>0</td>\n",
       "    </tr>\n",
       "  </tbody>\n",
       "</table>\n",
       "</div>"
      ],
      "text/plain": [
       "                                   0      1       2      3      4\n",
       "Variable                          ID      1       2      3      4\n",
       "X1                         LIMIT_BAL  20000  120000  90000  50000\n",
       "X2                               SEX      2       2      2      2\n",
       "X3                         EDUCATION      2       2      2      2\n",
       "X4                          MARRIAGE      1       2      2      1\n",
       "X5                               AGE     24      26     34     37\n",
       "X6                             PAY_0      2      -1      0      0\n",
       "X7                             PAY_2      2       2      0      0\n",
       "X8                             PAY_3     -1       0      0      0\n",
       "X9                             PAY_4     -1       0      0      0\n",
       "X10                            PAY_5     -2       0      0      0\n",
       "X11                            PAY_6     -2       2      0      0\n",
       "X12                        BILL_AMT1   3913    2682  29239  46990\n",
       "X13                        BILL_AMT2   3102    1725  14027  48233\n",
       "X14                        BILL_AMT3    689    2682  13559  49291\n",
       "X15                        BILL_AMT4      0    3272  14331  28314\n",
       "X16                        BILL_AMT5      0    3455  14948  28959\n",
       "X17                        BILL_AMT6      0    3261  15549  29547\n",
       "X18                         PAY_AMT1      0       0   1518   2000\n",
       "X19                         PAY_AMT2    689    1000   1500   2019\n",
       "X20                         PAY_AMT3      0    1000   1000   1200\n",
       "X21                         PAY_AMT4      0    1000   1000   1100\n",
       "X22                         PAY_AMT5      0       0   1000   1069\n",
       "X23                         PAY_AMT6      0    2000   5000   1000\n",
       "Y         default payment next month      1       1      0      0"
      ]
     },
     "execution_count": 3,
     "metadata": {},
     "output_type": "execute_result"
    }
   ],
   "source": [
    "loan1.head().T"
   ]
  },
  {
   "cell_type": "markdown",
   "id": "4c705e22",
   "metadata": {
    "id": "4c705e22"
   },
   "source": [
    "#### Explotary Data Analysis"
   ]
  },
  {
   "cell_type": "code",
   "execution_count": 4,
   "id": "4a092427",
   "metadata": {
    "colab": {
     "base_uri": "https://localhost:8080/"
    },
    "id": "4a092427",
    "outputId": "9f278e5b-be82-4904-be83-8883ab4ab150"
   },
   "outputs": [
    {
     "data": {
      "text/plain": [
       "ID                            0\n",
       "LIMIT_BAL                     0\n",
       "SEX                           0\n",
       "EDUCATION                     0\n",
       "MARRIAGE                      0\n",
       "AGE                           0\n",
       "PAY_0                         0\n",
       "PAY_2                         0\n",
       "PAY_3                         0\n",
       "PAY_4                         0\n",
       "PAY_5                         0\n",
       "PAY_6                         0\n",
       "BILL_AMT1                     0\n",
       "BILL_AMT2                     0\n",
       "BILL_AMT3                     0\n",
       "BILL_AMT4                     0\n",
       "BILL_AMT5                     0\n",
       "BILL_AMT6                     0\n",
       "PAY_AMT1                      0\n",
       "PAY_AMT2                      0\n",
       "PAY_AMT3                      0\n",
       "PAY_AMT4                      0\n",
       "PAY_AMT5                      0\n",
       "PAY_AMT6                      0\n",
       "default payment next month    0\n",
       "dtype: int64"
      ]
     },
     "execution_count": 4,
     "metadata": {},
     "output_type": "execute_result"
    }
   ],
   "source": [
    "loan.isna().sum()"
   ]
  },
  {
   "cell_type": "code",
   "execution_count": 5,
   "id": "998cf53b",
   "metadata": {
    "colab": {
     "base_uri": "https://localhost:8080/"
    },
    "id": "998cf53b",
    "outputId": "91bf0f67-41af-49ff-b8f2-72490b094df4"
   },
   "outputs": [
    {
     "data": {
      "text/plain": [
       "Index(['ID', 'LIMIT_BAL', 'SEX', 'EDUCATION', 'MARRIAGE', 'AGE', 'PAY_0',\n",
       "       'PAY_2', 'PAY_3', 'PAY_4', 'PAY_5', 'PAY_6', 'BILL_AMT1', 'BILL_AMT2',\n",
       "       'BILL_AMT3', 'BILL_AMT4', 'BILL_AMT5', 'BILL_AMT6', 'PAY_AMT1',\n",
       "       'PAY_AMT2', 'PAY_AMT3', 'PAY_AMT4', 'PAY_AMT5', 'PAY_AMT6',\n",
       "       'default payment next month'],\n",
       "      dtype='object')"
      ]
     },
     "execution_count": 5,
     "metadata": {},
     "output_type": "execute_result"
    }
   ],
   "source": [
    "loan.columns"
   ]
  },
  {
   "cell_type": "code",
   "execution_count": 6,
   "id": "59ec617c",
   "metadata": {
    "id": "59ec617c"
   },
   "outputs": [],
   "source": [
    "gender_values = {\n",
    "    1:'male',\n",
    "    2:'female'\n",
    "}\n",
    "\n",
    "loan.SEX = loan.SEX.map(gender_values)"
   ]
  },
  {
   "cell_type": "code",
   "execution_count": 7,
   "id": "284a22ed",
   "metadata": {
    "id": "284a22ed"
   },
   "outputs": [],
   "source": [
    "loan.loc[(loan['EDUCATION']==5) | (loan['EDUCATION']==6) | (loan['EDUCATION']==0), 'EDUCATION'] = 4"
   ]
  },
  {
   "cell_type": "code",
   "execution_count": 8,
   "id": "735c782f",
   "metadata": {
    "id": "735c782f"
   },
   "outputs": [],
   "source": [
    "education_values = {\n",
    "    1:'graduate_shool',\n",
    "    2:'university',\n",
    "    3:'high_school',\n",
    "    4:'others'\n",
    "}\n",
    "\n",
    "loan.EDUCATION = loan.EDUCATION.map(education_values)"
   ]
  },
  {
   "cell_type": "code",
   "execution_count": 9,
   "id": "5757f7ca",
   "metadata": {
    "id": "5757f7ca"
   },
   "outputs": [],
   "source": [
    "loan.loc[loan['MARRIAGE']==0, 'MARRIAGE'] = 3"
   ]
  },
  {
   "cell_type": "code",
   "execution_count": 10,
   "id": "91ebd5e7",
   "metadata": {
    "id": "91ebd5e7"
   },
   "outputs": [],
   "source": [
    "marital_status = {\n",
    "    1:'married',\n",
    "    2:'single',\n",
    "    3:'others'\n",
    "}\n",
    "\n",
    "loan.MARRIAGE = loan.MARRIAGE.map(marital_status)"
   ]
  },
  {
   "cell_type": "code",
   "execution_count": 11,
   "id": "b800d66d",
   "metadata": {
    "colab": {
     "base_uri": "https://localhost:8080/",
     "height": 275
    },
    "id": "b800d66d",
    "outputId": "f75a8376-7171-4b30-b03b-e8ef127691b0"
   },
   "outputs": [
    {
     "data": {
      "text/html": [
       "<div>\n",
       "<style scoped>\n",
       "    .dataframe tbody tr th:only-of-type {\n",
       "        vertical-align: middle;\n",
       "    }\n",
       "\n",
       "    .dataframe tbody tr th {\n",
       "        vertical-align: top;\n",
       "    }\n",
       "\n",
       "    .dataframe thead th {\n",
       "        text-align: right;\n",
       "    }\n",
       "</style>\n",
       "<table border=\"1\" class=\"dataframe\">\n",
       "  <thead>\n",
       "    <tr style=\"text-align: right;\">\n",
       "      <th></th>\n",
       "      <th>ID</th>\n",
       "      <th>LIMIT_BAL</th>\n",
       "      <th>SEX</th>\n",
       "      <th>EDUCATION</th>\n",
       "      <th>MARRIAGE</th>\n",
       "      <th>AGE</th>\n",
       "      <th>PAY_0</th>\n",
       "      <th>PAY_2</th>\n",
       "      <th>PAY_3</th>\n",
       "      <th>PAY_4</th>\n",
       "      <th>...</th>\n",
       "      <th>BILL_AMT4</th>\n",
       "      <th>BILL_AMT5</th>\n",
       "      <th>BILL_AMT6</th>\n",
       "      <th>PAY_AMT1</th>\n",
       "      <th>PAY_AMT2</th>\n",
       "      <th>PAY_AMT3</th>\n",
       "      <th>PAY_AMT4</th>\n",
       "      <th>PAY_AMT5</th>\n",
       "      <th>PAY_AMT6</th>\n",
       "      <th>default payment next month</th>\n",
       "    </tr>\n",
       "  </thead>\n",
       "  <tbody>\n",
       "    <tr>\n",
       "      <th>0</th>\n",
       "      <td>1</td>\n",
       "      <td>20000</td>\n",
       "      <td>female</td>\n",
       "      <td>university</td>\n",
       "      <td>married</td>\n",
       "      <td>24</td>\n",
       "      <td>2</td>\n",
       "      <td>2</td>\n",
       "      <td>-1</td>\n",
       "      <td>-1</td>\n",
       "      <td>...</td>\n",
       "      <td>0</td>\n",
       "      <td>0</td>\n",
       "      <td>0</td>\n",
       "      <td>0</td>\n",
       "      <td>689</td>\n",
       "      <td>0</td>\n",
       "      <td>0</td>\n",
       "      <td>0</td>\n",
       "      <td>0</td>\n",
       "      <td>1</td>\n",
       "    </tr>\n",
       "    <tr>\n",
       "      <th>1</th>\n",
       "      <td>2</td>\n",
       "      <td>120000</td>\n",
       "      <td>female</td>\n",
       "      <td>university</td>\n",
       "      <td>single</td>\n",
       "      <td>26</td>\n",
       "      <td>-1</td>\n",
       "      <td>2</td>\n",
       "      <td>0</td>\n",
       "      <td>0</td>\n",
       "      <td>...</td>\n",
       "      <td>3272</td>\n",
       "      <td>3455</td>\n",
       "      <td>3261</td>\n",
       "      <td>0</td>\n",
       "      <td>1000</td>\n",
       "      <td>1000</td>\n",
       "      <td>1000</td>\n",
       "      <td>0</td>\n",
       "      <td>2000</td>\n",
       "      <td>1</td>\n",
       "    </tr>\n",
       "    <tr>\n",
       "      <th>2</th>\n",
       "      <td>3</td>\n",
       "      <td>90000</td>\n",
       "      <td>female</td>\n",
       "      <td>university</td>\n",
       "      <td>single</td>\n",
       "      <td>34</td>\n",
       "      <td>0</td>\n",
       "      <td>0</td>\n",
       "      <td>0</td>\n",
       "      <td>0</td>\n",
       "      <td>...</td>\n",
       "      <td>14331</td>\n",
       "      <td>14948</td>\n",
       "      <td>15549</td>\n",
       "      <td>1518</td>\n",
       "      <td>1500</td>\n",
       "      <td>1000</td>\n",
       "      <td>1000</td>\n",
       "      <td>1000</td>\n",
       "      <td>5000</td>\n",
       "      <td>0</td>\n",
       "    </tr>\n",
       "    <tr>\n",
       "      <th>3</th>\n",
       "      <td>4</td>\n",
       "      <td>50000</td>\n",
       "      <td>female</td>\n",
       "      <td>university</td>\n",
       "      <td>married</td>\n",
       "      <td>37</td>\n",
       "      <td>0</td>\n",
       "      <td>0</td>\n",
       "      <td>0</td>\n",
       "      <td>0</td>\n",
       "      <td>...</td>\n",
       "      <td>28314</td>\n",
       "      <td>28959</td>\n",
       "      <td>29547</td>\n",
       "      <td>2000</td>\n",
       "      <td>2019</td>\n",
       "      <td>1200</td>\n",
       "      <td>1100</td>\n",
       "      <td>1069</td>\n",
       "      <td>1000</td>\n",
       "      <td>0</td>\n",
       "    </tr>\n",
       "    <tr>\n",
       "      <th>4</th>\n",
       "      <td>5</td>\n",
       "      <td>50000</td>\n",
       "      <td>male</td>\n",
       "      <td>university</td>\n",
       "      <td>married</td>\n",
       "      <td>57</td>\n",
       "      <td>-1</td>\n",
       "      <td>0</td>\n",
       "      <td>-1</td>\n",
       "      <td>0</td>\n",
       "      <td>...</td>\n",
       "      <td>20940</td>\n",
       "      <td>19146</td>\n",
       "      <td>19131</td>\n",
       "      <td>2000</td>\n",
       "      <td>36681</td>\n",
       "      <td>10000</td>\n",
       "      <td>9000</td>\n",
       "      <td>689</td>\n",
       "      <td>679</td>\n",
       "      <td>0</td>\n",
       "    </tr>\n",
       "  </tbody>\n",
       "</table>\n",
       "<p>5 rows × 25 columns</p>\n",
       "</div>"
      ],
      "text/plain": [
       "   ID  LIMIT_BAL     SEX   EDUCATION MARRIAGE  AGE  PAY_0  PAY_2  PAY_3  \\\n",
       "0   1      20000  female  university  married   24      2      2     -1   \n",
       "1   2     120000  female  university   single   26     -1      2      0   \n",
       "2   3      90000  female  university   single   34      0      0      0   \n",
       "3   4      50000  female  university  married   37      0      0      0   \n",
       "4   5      50000    male  university  married   57     -1      0     -1   \n",
       "\n",
       "   PAY_4  ...  BILL_AMT4  BILL_AMT5  BILL_AMT6  PAY_AMT1  PAY_AMT2  PAY_AMT3  \\\n",
       "0     -1  ...          0          0          0         0       689         0   \n",
       "1      0  ...       3272       3455       3261         0      1000      1000   \n",
       "2      0  ...      14331      14948      15549      1518      1500      1000   \n",
       "3      0  ...      28314      28959      29547      2000      2019      1200   \n",
       "4      0  ...      20940      19146      19131      2000     36681     10000   \n",
       "\n",
       "   PAY_AMT4  PAY_AMT5  PAY_AMT6  default payment next month  \n",
       "0         0         0         0                           1  \n",
       "1      1000         0      2000                           1  \n",
       "2      1000      1000      5000                           0  \n",
       "3      1100      1069      1000                           0  \n",
       "4      9000       689       679                           0  \n",
       "\n",
       "[5 rows x 25 columns]"
      ]
     },
     "execution_count": 11,
     "metadata": {},
     "output_type": "execute_result"
    }
   ],
   "source": [
    "loan.head()"
   ]
  },
  {
   "cell_type": "code",
   "execution_count": 12,
   "id": "39bcef7b",
   "metadata": {
    "colab": {
     "base_uri": "https://localhost:8080/",
     "height": 224
    },
    "id": "39bcef7b",
    "outputId": "76cdc7b5-88da-41ca-95d4-25c066b01b39"
   },
   "outputs": [
    {
     "data": {
      "text/html": [
       "<div>\n",
       "<style scoped>\n",
       "    .dataframe tbody tr th:only-of-type {\n",
       "        vertical-align: middle;\n",
       "    }\n",
       "\n",
       "    .dataframe tbody tr th {\n",
       "        vertical-align: top;\n",
       "    }\n",
       "\n",
       "    .dataframe thead th {\n",
       "        text-align: right;\n",
       "    }\n",
       "</style>\n",
       "<table border=\"1\" class=\"dataframe\">\n",
       "  <thead>\n",
       "    <tr style=\"text-align: right;\">\n",
       "      <th></th>\n",
       "      <th>id</th>\n",
       "      <th>limit_bal</th>\n",
       "      <th>sex</th>\n",
       "      <th>education</th>\n",
       "      <th>marriage</th>\n",
       "      <th>age</th>\n",
       "      <th>pay_0</th>\n",
       "      <th>pay_2</th>\n",
       "      <th>pay_3</th>\n",
       "      <th>pay_4</th>\n",
       "      <th>...</th>\n",
       "      <th>bill_amt4</th>\n",
       "      <th>bill_amt5</th>\n",
       "      <th>bill_amt6</th>\n",
       "      <th>pay_amt1</th>\n",
       "      <th>pay_amt2</th>\n",
       "      <th>pay_amt3</th>\n",
       "      <th>pay_amt4</th>\n",
       "      <th>pay_amt5</th>\n",
       "      <th>pay_amt6</th>\n",
       "      <th>defaulted</th>\n",
       "    </tr>\n",
       "  </thead>\n",
       "  <tbody>\n",
       "    <tr>\n",
       "      <th>0</th>\n",
       "      <td>1</td>\n",
       "      <td>20000</td>\n",
       "      <td>female</td>\n",
       "      <td>university</td>\n",
       "      <td>married</td>\n",
       "      <td>24</td>\n",
       "      <td>2</td>\n",
       "      <td>2</td>\n",
       "      <td>-1</td>\n",
       "      <td>-1</td>\n",
       "      <td>...</td>\n",
       "      <td>0</td>\n",
       "      <td>0</td>\n",
       "      <td>0</td>\n",
       "      <td>0</td>\n",
       "      <td>689</td>\n",
       "      <td>0</td>\n",
       "      <td>0</td>\n",
       "      <td>0</td>\n",
       "      <td>0</td>\n",
       "      <td>1</td>\n",
       "    </tr>\n",
       "    <tr>\n",
       "      <th>1</th>\n",
       "      <td>2</td>\n",
       "      <td>120000</td>\n",
       "      <td>female</td>\n",
       "      <td>university</td>\n",
       "      <td>single</td>\n",
       "      <td>26</td>\n",
       "      <td>-1</td>\n",
       "      <td>2</td>\n",
       "      <td>0</td>\n",
       "      <td>0</td>\n",
       "      <td>...</td>\n",
       "      <td>3272</td>\n",
       "      <td>3455</td>\n",
       "      <td>3261</td>\n",
       "      <td>0</td>\n",
       "      <td>1000</td>\n",
       "      <td>1000</td>\n",
       "      <td>1000</td>\n",
       "      <td>0</td>\n",
       "      <td>2000</td>\n",
       "      <td>1</td>\n",
       "    </tr>\n",
       "    <tr>\n",
       "      <th>2</th>\n",
       "      <td>3</td>\n",
       "      <td>90000</td>\n",
       "      <td>female</td>\n",
       "      <td>university</td>\n",
       "      <td>single</td>\n",
       "      <td>34</td>\n",
       "      <td>0</td>\n",
       "      <td>0</td>\n",
       "      <td>0</td>\n",
       "      <td>0</td>\n",
       "      <td>...</td>\n",
       "      <td>14331</td>\n",
       "      <td>14948</td>\n",
       "      <td>15549</td>\n",
       "      <td>1518</td>\n",
       "      <td>1500</td>\n",
       "      <td>1000</td>\n",
       "      <td>1000</td>\n",
       "      <td>1000</td>\n",
       "      <td>5000</td>\n",
       "      <td>0</td>\n",
       "    </tr>\n",
       "    <tr>\n",
       "      <th>3</th>\n",
       "      <td>4</td>\n",
       "      <td>50000</td>\n",
       "      <td>female</td>\n",
       "      <td>university</td>\n",
       "      <td>married</td>\n",
       "      <td>37</td>\n",
       "      <td>0</td>\n",
       "      <td>0</td>\n",
       "      <td>0</td>\n",
       "      <td>0</td>\n",
       "      <td>...</td>\n",
       "      <td>28314</td>\n",
       "      <td>28959</td>\n",
       "      <td>29547</td>\n",
       "      <td>2000</td>\n",
       "      <td>2019</td>\n",
       "      <td>1200</td>\n",
       "      <td>1100</td>\n",
       "      <td>1069</td>\n",
       "      <td>1000</td>\n",
       "      <td>0</td>\n",
       "    </tr>\n",
       "    <tr>\n",
       "      <th>4</th>\n",
       "      <td>5</td>\n",
       "      <td>50000</td>\n",
       "      <td>male</td>\n",
       "      <td>university</td>\n",
       "      <td>married</td>\n",
       "      <td>57</td>\n",
       "      <td>-1</td>\n",
       "      <td>0</td>\n",
       "      <td>-1</td>\n",
       "      <td>0</td>\n",
       "      <td>...</td>\n",
       "      <td>20940</td>\n",
       "      <td>19146</td>\n",
       "      <td>19131</td>\n",
       "      <td>2000</td>\n",
       "      <td>36681</td>\n",
       "      <td>10000</td>\n",
       "      <td>9000</td>\n",
       "      <td>689</td>\n",
       "      <td>679</td>\n",
       "      <td>0</td>\n",
       "    </tr>\n",
       "  </tbody>\n",
       "</table>\n",
       "<p>5 rows × 25 columns</p>\n",
       "</div>"
      ],
      "text/plain": [
       "   id  limit_bal     sex   education marriage  age  pay_0  pay_2  pay_3  \\\n",
       "0   1      20000  female  university  married   24      2      2     -1   \n",
       "1   2     120000  female  university   single   26     -1      2      0   \n",
       "2   3      90000  female  university   single   34      0      0      0   \n",
       "3   4      50000  female  university  married   37      0      0      0   \n",
       "4   5      50000    male  university  married   57     -1      0     -1   \n",
       "\n",
       "   pay_4  ...  bill_amt4  bill_amt5  bill_amt6  pay_amt1  pay_amt2  pay_amt3  \\\n",
       "0     -1  ...          0          0          0         0       689         0   \n",
       "1      0  ...       3272       3455       3261         0      1000      1000   \n",
       "2      0  ...      14331      14948      15549      1518      1500      1000   \n",
       "3      0  ...      28314      28959      29547      2000      2019      1200   \n",
       "4      0  ...      20940      19146      19131      2000     36681     10000   \n",
       "\n",
       "   pay_amt4  pay_amt5  pay_amt6  defaulted  \n",
       "0         0         0         0          1  \n",
       "1      1000         0      2000          1  \n",
       "2      1000      1000      5000          0  \n",
       "3      1100      1069      1000          0  \n",
       "4      9000       689       679          0  \n",
       "\n",
       "[5 rows x 25 columns]"
      ]
     },
     "execution_count": 12,
     "metadata": {},
     "output_type": "execute_result"
    }
   ],
   "source": [
    "loan.columns = loan.columns.str.lower()\n",
    "loan.rename(columns={'default payment next month':'defaulted'}, inplace=True)\n",
    "loan.head()"
   ]
  },
  {
   "cell_type": "markdown",
   "id": "cf63e7a1",
   "metadata": {
    "id": "cf63e7a1"
   },
   "source": [
    "#### 1. Is the % of defaulters significantly different between male & female ?"
   ]
  },
  {
   "cell_type": "code",
   "execution_count": 13,
   "id": "dfc9c167",
   "metadata": {
    "colab": {
     "base_uri": "https://localhost:8080/"
    },
    "id": "dfc9c167",
    "outputId": "bad81737-3820-4b73-9529-985a8654a74d"
   },
   "outputs": [
    {
     "data": {
      "text/plain": [
       "array(['female', 'male'], dtype=object)"
      ]
     },
     "execution_count": 13,
     "metadata": {},
     "output_type": "execute_result"
    }
   ],
   "source": [
    "loan.sex.unique()"
   ]
  },
  {
   "cell_type": "code",
   "execution_count": 14,
   "id": "b32175f0",
   "metadata": {
    "colab": {
     "base_uri": "https://localhost:8080/"
    },
    "id": "b32175f0",
    "outputId": "ffc2a67e-8511-4d33-9193-ef2767fde83c"
   },
   "outputs": [
    {
     "data": {
      "text/plain": [
       "0.226"
      ]
     },
     "execution_count": 14,
     "metadata": {},
     "output_type": "execute_result"
    }
   ],
   "source": [
    "global_mean = round(loan['defaulted'].mean(),3)\n",
    "global_mean"
   ]
  },
  {
   "cell_type": "code",
   "execution_count": 15,
   "id": "0c7b26e3",
   "metadata": {
    "id": "0c7b26e3"
   },
   "outputs": [],
   "source": [
    "def default_stat(column):\n",
    "    data_group = loan.groupby(column)['defaulted'].agg(['mean'])\n",
    "    data_group['diff'] = data_group['mean'] - global_mean\n",
    "    data_group['risk'] = data_group['mean']/global_mean\n",
    "    return data_group"
   ]
  },
  {
   "cell_type": "code",
   "execution_count": 16,
   "id": "e8b2aba8",
   "metadata": {
    "colab": {
     "base_uri": "https://localhost:8080/",
     "height": 142
    },
    "id": "e8b2aba8",
    "outputId": "ce2643b9-e207-4f54-cb0d-64144e3ca4fa"
   },
   "outputs": [
    {
     "data": {
      "text/html": [
       "<div>\n",
       "<style scoped>\n",
       "    .dataframe tbody tr th:only-of-type {\n",
       "        vertical-align: middle;\n",
       "    }\n",
       "\n",
       "    .dataframe tbody tr th {\n",
       "        vertical-align: top;\n",
       "    }\n",
       "\n",
       "    .dataframe thead th {\n",
       "        text-align: right;\n",
       "    }\n",
       "</style>\n",
       "<table border=\"1\" class=\"dataframe\">\n",
       "  <thead>\n",
       "    <tr style=\"text-align: right;\">\n",
       "      <th></th>\n",
       "      <th>mean</th>\n",
       "      <th>diff</th>\n",
       "      <th>risk</th>\n",
       "    </tr>\n",
       "    <tr>\n",
       "      <th>sex</th>\n",
       "      <th></th>\n",
       "      <th></th>\n",
       "      <th></th>\n",
       "    </tr>\n",
       "  </thead>\n",
       "  <tbody>\n",
       "    <tr>\n",
       "      <th>female</th>\n",
       "      <td>0.213344</td>\n",
       "      <td>-0.012656</td>\n",
       "      <td>0.944000</td>\n",
       "    </tr>\n",
       "    <tr>\n",
       "      <th>male</th>\n",
       "      <td>0.246152</td>\n",
       "      <td>0.020152</td>\n",
       "      <td>1.089169</td>\n",
       "    </tr>\n",
       "  </tbody>\n",
       "</table>\n",
       "</div>"
      ],
      "text/plain": [
       "            mean      diff      risk\n",
       "sex                                 \n",
       "female  0.213344 -0.012656  0.944000\n",
       "male    0.246152  0.020152  1.089169"
      ]
     },
     "execution_count": 16,
     "metadata": {},
     "output_type": "execute_result"
    }
   ],
   "source": [
    "default_stat('sex')"
   ]
  },
  {
   "cell_type": "markdown",
   "id": "505ead5d",
   "metadata": {
    "id": "505ead5d"
   },
   "source": [
    "The default rate for males is 24.6%\n",
    "\n",
    "The default rate for females is 21.3%"
   ]
  },
  {
   "cell_type": "code",
   "execution_count": 17,
   "id": "d583e30e",
   "metadata": {
    "colab": {
     "base_uri": "https://localhost:8080/",
     "height": 283
    },
    "id": "d583e30e",
    "outputId": "fd351225-70c9-4f01-fe4a-1d41fc84efd0"
   },
   "outputs": [
    {
     "data": {
      "image/png": "[encoded data removed]",
      "text/plain": [
       "<Figure size 432x288 with 1 Axes>"
      ]
     },
     "metadata": {
      "needs_background": "light"
     },
     "output_type": "display_data"
    }
   ],
   "source": [
    "sex_df = default_stat('sex')\n",
    "values = list(sex_df['mean'])\n",
    "labels = list(sex_df.index)\n",
    "plt.title(label='% of Defaulter by Sex', fontsize=15)\n",
    "sns.barplot(labels,values)\n",
    "plt.show()"
   ]
  },
  {
   "cell_type": "markdown",
   "id": "669a26f7",
   "metadata": {
    "id": "669a26f7"
   },
   "source": [
    "Default of male and female costumers are not very different from each other and global default rate."
   ]
  },
  {
   "cell_type": "markdown",
   "id": "ed6d8763",
   "metadata": {
    "id": "ed6d8763"
   },
   "source": [
    "#### 2. How does Marital Status effect the proportion of defaulters ?"
   ]
  },
  {
   "cell_type": "code",
   "execution_count": 18,
   "id": "a70adaef",
   "metadata": {
    "colab": {
     "base_uri": "https://localhost:8080/"
    },
    "id": "a70adaef",
    "outputId": "c1ad1ca5-df8a-4900-c077-88267b37240b"
   },
   "outputs": [
    {
     "data": {
      "text/plain": [
       "single     12219\n",
       "married     9990\n",
       "others       291\n",
       "Name: marriage, dtype: int64"
      ]
     },
     "execution_count": 18,
     "metadata": {},
     "output_type": "execute_result"
    }
   ],
   "source": [
    "loan['marriage'].value_counts()"
   ]
  },
  {
   "cell_type": "code",
   "execution_count": 19,
   "id": "b7536978",
   "metadata": {
    "colab": {
     "base_uri": "https://localhost:8080/",
     "height": 173
    },
    "id": "b7536978",
    "outputId": "efe9ef43-c18e-4e06-b65e-218a3b41cf66"
   },
   "outputs": [
    {
     "data": {
      "text/html": [
       "<div>\n",
       "<style scoped>\n",
       "    .dataframe tbody tr th:only-of-type {\n",
       "        vertical-align: middle;\n",
       "    }\n",
       "\n",
       "    .dataframe tbody tr th {\n",
       "        vertical-align: top;\n",
       "    }\n",
       "\n",
       "    .dataframe thead th {\n",
       "        text-align: right;\n",
       "    }\n",
       "</style>\n",
       "<table border=\"1\" class=\"dataframe\">\n",
       "  <thead>\n",
       "    <tr style=\"text-align: right;\">\n",
       "      <th></th>\n",
       "      <th>mean</th>\n",
       "      <th>diff</th>\n",
       "      <th>risk</th>\n",
       "    </tr>\n",
       "    <tr>\n",
       "      <th>marriage</th>\n",
       "      <th></th>\n",
       "      <th></th>\n",
       "      <th></th>\n",
       "    </tr>\n",
       "  </thead>\n",
       "  <tbody>\n",
       "    <tr>\n",
       "      <th>married</th>\n",
       "      <td>0.242543</td>\n",
       "      <td>0.016543</td>\n",
       "      <td>1.073197</td>\n",
       "    </tr>\n",
       "    <tr>\n",
       "      <th>others</th>\n",
       "      <td>0.230241</td>\n",
       "      <td>0.004241</td>\n",
       "      <td>1.018763</td>\n",
       "    </tr>\n",
       "    <tr>\n",
       "      <th>single</th>\n",
       "      <td>0.212620</td>\n",
       "      <td>-0.013380</td>\n",
       "      <td>0.940795</td>\n",
       "    </tr>\n",
       "  </tbody>\n",
       "</table>\n",
       "</div>"
      ],
      "text/plain": [
       "              mean      diff      risk\n",
       "marriage                              \n",
       "married   0.242543  0.016543  1.073197\n",
       "others    0.230241  0.004241  1.018763\n",
       "single    0.212620 -0.013380  0.940795"
      ]
     },
     "execution_count": 19,
     "metadata": {},
     "output_type": "execute_result"
    }
   ],
   "source": [
    "default_stat('marriage')"
   ]
  },
  {
   "cell_type": "markdown",
   "id": "14ae0924",
   "metadata": {
    "id": "14ae0924"
   },
   "source": [
    "The default rate for married borrowers is 24.3%\n",
    "\n",
    "The default rate for single borrowers is 21.3%\n",
    "\n",
    "The default rate for others is 23.0%"
   ]
  },
  {
   "cell_type": "code",
   "execution_count": 20,
   "id": "1be70dca",
   "metadata": {
    "colab": {
     "base_uri": "https://localhost:8080/",
     "height": 283
    },
    "id": "1be70dca",
    "outputId": "5d77c0ef-870c-40fa-e7f7-3e1bc4b1b6e4"
   },
   "outputs": [
    {
     "data": {
      "image/png": "[encoded data removed]",
      "text/plain": [
       "<Figure size 432x288 with 1 Axes>"
      ]
     },
     "metadata": {
      "needs_background": "light"
     },
     "output_type": "display_data"
    }
   ],
   "source": [
    "marriage_df = default_stat('marriage')\n",
    "values = list(marriage_df['mean'])\n",
    "labels = list(marriage_df.index)\n",
    "plt.title(label='% of Defaulter by Marital Status', fontsize=15)\n",
    "sns.barplot(labels,values)\n",
    "plt.show()"
   ]
  },
  {
   "cell_type": "markdown",
   "id": "d253a40d",
   "metadata": {
    "id": "d253a40d"
   },
   "source": [
    "#### 3. Does the Level of Education play a role in the % of defaulters ?"
   ]
  },
  {
   "cell_type": "code",
   "execution_count": 21,
   "id": "dbefa947",
   "metadata": {
    "colab": {
     "base_uri": "https://localhost:8080/"
    },
    "id": "dbefa947",
    "outputId": "417f0efe-5b3f-47d5-edd6-095935a263f2"
   },
   "outputs": [
    {
     "data": {
      "text/plain": [
       "university        10634\n",
       "graduate_shool     7982\n",
       "high_school        3581\n",
       "others              303\n",
       "Name: education, dtype: int64"
      ]
     },
     "execution_count": 21,
     "metadata": {},
     "output_type": "execute_result"
    }
   ],
   "source": [
    "loan['education'].value_counts()"
   ]
  },
  {
   "cell_type": "code",
   "execution_count": 22,
   "id": "efa46ae0",
   "metadata": {
    "colab": {
     "base_uri": "https://localhost:8080/",
     "height": 204
    },
    "id": "efa46ae0",
    "outputId": "47213c26-93bc-4d1e-ab43-9796ba0c814f"
   },
   "outputs": [
    {
     "data": {
      "text/html": [
       "<div>\n",
       "<style scoped>\n",
       "    .dataframe tbody tr th:only-of-type {\n",
       "        vertical-align: middle;\n",
       "    }\n",
       "\n",
       "    .dataframe tbody tr th {\n",
       "        vertical-align: top;\n",
       "    }\n",
       "\n",
       "    .dataframe thead th {\n",
       "        text-align: right;\n",
       "    }\n",
       "</style>\n",
       "<table border=\"1\" class=\"dataframe\">\n",
       "  <thead>\n",
       "    <tr style=\"text-align: right;\">\n",
       "      <th></th>\n",
       "      <th>mean</th>\n",
       "      <th>diff</th>\n",
       "      <th>risk</th>\n",
       "    </tr>\n",
       "    <tr>\n",
       "      <th>education</th>\n",
       "      <th></th>\n",
       "      <th></th>\n",
       "      <th></th>\n",
       "    </tr>\n",
       "  </thead>\n",
       "  <tbody>\n",
       "    <tr>\n",
       "      <th>graduate_shool</th>\n",
       "      <td>0.197319</td>\n",
       "      <td>-0.028681</td>\n",
       "      <td>0.873093</td>\n",
       "    </tr>\n",
       "    <tr>\n",
       "      <th>high_school</th>\n",
       "      <td>0.258866</td>\n",
       "      <td>0.032866</td>\n",
       "      <td>1.145426</td>\n",
       "    </tr>\n",
       "    <tr>\n",
       "      <th>others</th>\n",
       "      <td>0.066007</td>\n",
       "      <td>-0.159993</td>\n",
       "      <td>0.292065</td>\n",
       "    </tr>\n",
       "    <tr>\n",
       "      <th>university</th>\n",
       "      <td>0.241301</td>\n",
       "      <td>0.015301</td>\n",
       "      <td>1.067706</td>\n",
       "    </tr>\n",
       "  </tbody>\n",
       "</table>\n",
       "</div>"
      ],
      "text/plain": [
       "                    mean      diff      risk\n",
       "education                                   \n",
       "graduate_shool  0.197319 -0.028681  0.873093\n",
       "high_school     0.258866  0.032866  1.145426\n",
       "others          0.066007 -0.159993  0.292065\n",
       "university      0.241301  0.015301  1.067706"
      ]
     },
     "execution_count": 22,
     "metadata": {},
     "output_type": "execute_result"
    }
   ],
   "source": [
    "default_stat('education')"
   ]
  },
  {
   "cell_type": "markdown",
   "id": "7819adfa",
   "metadata": {
    "id": "7819adfa"
   },
   "source": [
    "The default rate for graduate schoolers is 19.7%\n",
    "\n",
    "The default rate for university students is 24.099999999999998%\n",
    "\n",
    "The default rate for high schoolers is 25.900000000000002%\n",
    "\n",
    "The default rate for others is 6.6000000000000005%"
   ]
  },
  {
   "cell_type": "code",
   "execution_count": 23,
   "id": "c80c53cf",
   "metadata": {
    "colab": {
     "base_uri": "https://localhost:8080/",
     "height": 284
    },
    "id": "c80c53cf",
    "outputId": "a78174cf-ef4c-4231-e03d-309e16892ac2"
   },
   "outputs": [
    {
     "data": {
      "image/png": "[encoded data removed]",
      "text/plain": [
       "<Figure size 432x288 with 1 Axes>"
      ]
     },
     "metadata": {
      "needs_background": "light"
     },
     "output_type": "display_data"
    }
   ],
   "source": [
    "education_df = default_stat('education')\n",
    "values = list(education_df['mean'])\n",
    "labels = list(education_df.index)\n",
    "plt.title(label='% of Defaulter by Education level', fontsize=15)\n",
    "sns.barplot(labels,values)\n",
    "plt.show()"
   ]
  },
  {
   "cell_type": "markdown",
   "id": "c6ca0a7a",
   "metadata": {
    "id": "c6ca0a7a"
   },
   "source": [
    "The default of high school graduate borrowers are higher while default of graduaters of high institutions are lower."
   ]
  },
  {
   "cell_type": "markdown",
   "id": "92d7e261",
   "metadata": {
    "id": "92d7e261"
   },
   "source": [
    "#### 4. Which age group constitutes for higher proportion of defaulters ?"
   ]
  },
  {
   "cell_type": "code",
   "execution_count": 24,
   "id": "73598c66",
   "metadata": {
    "colab": {
     "base_uri": "https://localhost:8080/"
    },
    "id": "73598c66",
    "outputId": "db7fc5d3-327d-4f94-aff6-80e3467cfd95"
   },
   "outputs": [
    {
     "data": {
      "text/plain": [
       "array([24, 26, 34, 37, 57, 29, 23, 28, 35, 51, 41, 30, 49, 39, 40, 27, 47,\n",
       "       33, 32, 54, 58, 22, 25, 31, 46, 42, 43, 45, 56, 44, 53, 38, 63, 36,\n",
       "       52, 48, 55, 60, 50, 75, 61, 73, 59, 21, 67, 66, 62, 70, 72, 64, 65,\n",
       "       71, 69, 68, 79], dtype=int64)"
      ]
     },
     "execution_count": 24,
     "metadata": {},
     "output_type": "execute_result"
    }
   ],
   "source": [
    "loan['age'].unique()"
   ]
  },
  {
   "cell_type": "code",
   "execution_count": 25,
   "id": "82103fc1",
   "metadata": {
    "colab": {
     "base_uri": "https://localhost:8080/"
    },
    "id": "82103fc1",
    "outputId": "2f525046-ba43-42fb-f9a1-76407cb31255"
   },
   "outputs": [
    {
     "name": "stdout",
     "output_type": "stream",
     "text": [
      "The default rate for people aged younger than 30 is 23.400000000000002%\n"
     ]
    }
   ],
   "source": [
    "default_young = round(loan[loan['age']<30]['defaulted'].mean(),3)\n",
    "print(f'The default rate for people aged younger than 30 is {default_young*100}%')"
   ]
  },
  {
   "cell_type": "code",
   "execution_count": 26,
   "id": "6f2a6ef1",
   "metadata": {
    "colab": {
     "base_uri": "https://localhost:8080/"
    },
    "id": "6f2a6ef1",
    "outputId": "a34f8782-43dd-4394-dadb-5df44e8cb573"
   },
   "outputs": [
    {
     "name": "stdout",
     "output_type": "stream",
     "text": [
      "The default rate for middle aged people is 21.7%\n"
     ]
    }
   ],
   "source": [
    "default_adult = round(loan[(loan['age']>=30)&(loan['age']<50)]['defaulted'].mean(),3)\n",
    "print(f'The default rate for middle aged people is {default_adult*100}%')"
   ]
  },
  {
   "cell_type": "code",
   "execution_count": 27,
   "id": "466b8fbb",
   "metadata": {
    "colab": {
     "base_uri": "https://localhost:8080/"
    },
    "id": "466b8fbb",
    "outputId": "6d4a6f06-5472-4ba7-a6dd-02c37885fb43"
   },
   "outputs": [
    {
     "name": "stdout",
     "output_type": "stream",
     "text": [
      "The default rate for people older than 50 is 25.4%\n"
     ]
    }
   ],
   "source": [
    "default_old = round(loan[loan['age']>=50]['defaulted'].mean(),3)\n",
    "print(f'The default rate for people older than 50 is {default_old*100}%')"
   ]
  },
  {
   "cell_type": "code",
   "execution_count": 28,
   "id": "e57a0239",
   "metadata": {
    "colab": {
     "base_uri": "https://localhost:8080/",
     "height": 388
    },
    "id": "e57a0239",
    "outputId": "4a1a07e0-1714-46d5-82f1-d29a8d8da58d"
   },
   "outputs": [
    {
     "data": {
      "image/png": "[encoded data removed]",
      "text/plain": [
       "<Figure size 864x432 with 1 Axes>"
      ]
     },
     "metadata": {
      "needs_background": "light"
     },
     "output_type": "display_data"
    }
   ],
   "source": [
    "defaulters = loan[loan[\"defaulted\"] == 1]\n",
    "non_defaulters = loan[loan[\"defaulted\"] == 0]\n",
    "defaulters[\"Defaulter\"] = defaulters[\"age\"]\n",
    "non_defaulters[\"Non Defaulter\"] = non_defaulters[\"age\"]\n",
    "f, ax = plt.subplots(figsize=(12, 6))\n",
    "ax = sns.kdeplot(defaulters[\"Defaulter\"], shade=True, color=\"r\", label='Defaulter')\n",
    "ax = sns.kdeplot(non_defaulters[\"Non Defaulter\"], shade=True, color=\"g\", label='NON Defaulter')\n",
    "plt.legend()\n",
    "plt.show()"
   ]
  },
  {
   "cell_type": "markdown",
   "id": "1f76d694",
   "metadata": {
    "id": "1f76d694"
   },
   "source": [
    "The default rate for middle aged people is less than other people."
   ]
  },
  {
   "cell_type": "markdown",
   "id": "e22ceaa3",
   "metadata": {
    "id": "e22ceaa3"
   },
   "source": [
    "#### 5. Is the number of defaulters correlated with credit limit ?"
   ]
  },
  {
   "cell_type": "code",
   "execution_count": 29,
   "id": "ca3e94c1",
   "metadata": {
    "colab": {
     "base_uri": "https://localhost:8080/",
     "height": 80
    },
    "id": "ca3e94c1",
    "outputId": "00c237f2-fd09-4ba2-b1e8-647797f8afe6"
   },
   "outputs": [
    {
     "data": {
      "text/html": [
       "<div>\n",
       "<style scoped>\n",
       "    .dataframe tbody tr th:only-of-type {\n",
       "        vertical-align: middle;\n",
       "    }\n",
       "\n",
       "    .dataframe tbody tr th {\n",
       "        vertical-align: top;\n",
       "    }\n",
       "\n",
       "    .dataframe thead th {\n",
       "        text-align: right;\n",
       "    }\n",
       "</style>\n",
       "<table border=\"1\" class=\"dataframe\">\n",
       "  <thead>\n",
       "    <tr style=\"text-align: right;\">\n",
       "      <th></th>\n",
       "      <th>Correlation</th>\n",
       "    </tr>\n",
       "  </thead>\n",
       "  <tbody>\n",
       "    <tr>\n",
       "      <th>limit_bal</th>\n",
       "      <td>-0.148079</td>\n",
       "    </tr>\n",
       "  </tbody>\n",
       "</table>\n",
       "</div>"
      ],
      "text/plain": [
       "           Correlation\n",
       "limit_bal    -0.148079"
      ]
     },
     "execution_count": 29,
     "metadata": {},
     "output_type": "execute_result"
    }
   ],
   "source": [
    "loan[['limit_bal']].corrwith(loan['defaulted']).to_frame('Correlation')"
   ]
  },
  {
   "cell_type": "markdown",
   "id": "87368d0a",
   "metadata": {
    "id": "87368d0a"
   },
   "source": [
    "The credit limit and default of borrowers are negatively correlated. People with lower credit balance tend to default more"
   ]
  },
  {
   "cell_type": "markdown",
   "id": "1e41325e",
   "metadata": {
    "id": "1e41325e"
   },
   "source": [
    "#### 6. Is there a pattern in past repayment statuses which can help predict probability of a defaulter ?"
   ]
  },
  {
   "cell_type": "code",
   "execution_count": 30,
   "id": "689347b6",
   "metadata": {
    "id": "689347b6"
   },
   "outputs": [],
   "source": [
    "lst = ['pay_0','pay_2', 'pay_3', 'pay_4', 'pay_5', 'pay_6']"
   ]
  },
  {
   "cell_type": "code",
   "execution_count": 31,
   "id": "338473c8",
   "metadata": {
    "id": "338473c8"
   },
   "outputs": [],
   "source": [
    "lst2 = []"
   ]
  },
  {
   "cell_type": "code",
   "execution_count": 32,
   "id": "261548af",
   "metadata": {
    "id": "261548af"
   },
   "outputs": [],
   "source": [
    "for i in lst:\n",
    "    keys = list(loan.groupby(i).mean()[['defaulted']].index)\n",
    "    values =  list(loan.groupby(i).mean()['defaulted'])\n",
    "    d = dict(zip(keys, values))\n",
    "    lst2.append(d)"
   ]
  },
  {
   "cell_type": "code",
   "execution_count": 33,
   "id": "b3759a5a",
   "metadata": {
    "colab": {
     "base_uri": "https://localhost:8080/",
     "height": 235
    },
    "id": "b3759a5a",
    "outputId": "1d891b15-2cd4-499f-9ba0-006c2f581623"
   },
   "outputs": [
    {
     "data": {
      "text/html": [
       "<div>\n",
       "<style scoped>\n",
       "    .dataframe tbody tr th:only-of-type {\n",
       "        vertical-align: middle;\n",
       "    }\n",
       "\n",
       "    .dataframe tbody tr th {\n",
       "        vertical-align: top;\n",
       "    }\n",
       "\n",
       "    .dataframe thead th {\n",
       "        text-align: right;\n",
       "    }\n",
       "</style>\n",
       "<table border=\"1\" class=\"dataframe\">\n",
       "  <thead>\n",
       "    <tr style=\"text-align: right;\">\n",
       "      <th></th>\n",
       "      <th>-2</th>\n",
       "      <th>-1</th>\n",
       "      <th>0</th>\n",
       "      <th>1</th>\n",
       "      <th>2</th>\n",
       "      <th>3</th>\n",
       "      <th>4</th>\n",
       "      <th>5</th>\n",
       "      <th>6</th>\n",
       "      <th>7</th>\n",
       "      <th>8</th>\n",
       "    </tr>\n",
       "  </thead>\n",
       "  <tbody>\n",
       "    <tr>\n",
       "      <th>0</th>\n",
       "      <td>0.129508</td>\n",
       "      <td>0.176770</td>\n",
       "      <td>0.129190</td>\n",
       "      <td>0.343816</td>\n",
       "      <td>0.683708</td>\n",
       "      <td>0.753086</td>\n",
       "      <td>0.650794</td>\n",
       "      <td>0.529412</td>\n",
       "      <td>0.555556</td>\n",
       "      <td>0.857143</td>\n",
       "      <td>0.529412</td>\n",
       "    </tr>\n",
       "    <tr>\n",
       "      <th>1</th>\n",
       "      <td>0.192279</td>\n",
       "      <td>0.163310</td>\n",
       "      <td>0.162461</td>\n",
       "      <td>0.150000</td>\n",
       "      <td>0.553589</td>\n",
       "      <td>0.601594</td>\n",
       "      <td>0.492958</td>\n",
       "      <td>0.666667</td>\n",
       "      <td>0.888889</td>\n",
       "      <td>0.529412</td>\n",
       "      <td>0.000000</td>\n",
       "    </tr>\n",
       "    <tr>\n",
       "      <th>2</th>\n",
       "      <td>0.190792</td>\n",
       "      <td>0.161384</td>\n",
       "      <td>0.178427</td>\n",
       "      <td>0.250000</td>\n",
       "      <td>0.510424</td>\n",
       "      <td>0.567251</td>\n",
       "      <td>0.603175</td>\n",
       "      <td>0.687500</td>\n",
       "      <td>0.550000</td>\n",
       "      <td>0.814815</td>\n",
       "      <td>0.500000</td>\n",
       "    </tr>\n",
       "    <tr>\n",
       "      <th>3</th>\n",
       "      <td>0.196335</td>\n",
       "      <td>0.166037</td>\n",
       "      <td>0.188356</td>\n",
       "      <td>0.500000</td>\n",
       "      <td>0.523005</td>\n",
       "      <td>0.597315</td>\n",
       "      <td>0.703704</td>\n",
       "      <td>0.481481</td>\n",
       "      <td>0.400000</td>\n",
       "      <td>0.804348</td>\n",
       "      <td>0.500000</td>\n",
       "    </tr>\n",
       "    <tr>\n",
       "      <th>4</th>\n",
       "      <td>0.201565</td>\n",
       "      <td>0.164325</td>\n",
       "      <td>0.192492</td>\n",
       "      <td>NaN</td>\n",
       "      <td>0.537572</td>\n",
       "      <td>0.676056</td>\n",
       "      <td>0.588235</td>\n",
       "      <td>0.500000</td>\n",
       "      <td>0.666667</td>\n",
       "      <td>0.808511</td>\n",
       "      <td>1.000000</td>\n",
       "    </tr>\n",
       "    <tr>\n",
       "      <th>5</th>\n",
       "      <td>0.206171</td>\n",
       "      <td>0.172795</td>\n",
       "      <td>0.192859</td>\n",
       "      <td>NaN</td>\n",
       "      <td>0.496400</td>\n",
       "      <td>0.626667</td>\n",
       "      <td>0.600000</td>\n",
       "      <td>0.666667</td>\n",
       "      <td>0.750000</td>\n",
       "      <td>0.810811</td>\n",
       "      <td>1.000000</td>\n",
       "    </tr>\n",
       "  </tbody>\n",
       "</table>\n",
       "</div>"
      ],
      "text/plain": [
       "         -2        -1         0         1         2         3         4  \\\n",
       "0  0.129508  0.176770  0.129190  0.343816  0.683708  0.753086  0.650794   \n",
       "1  0.192279  0.163310  0.162461  0.150000  0.553589  0.601594  0.492958   \n",
       "2  0.190792  0.161384  0.178427  0.250000  0.510424  0.567251  0.603175   \n",
       "3  0.196335  0.166037  0.188356  0.500000  0.523005  0.597315  0.703704   \n",
       "4  0.201565  0.164325  0.192492       NaN  0.537572  0.676056  0.588235   \n",
       "5  0.206171  0.172795  0.192859       NaN  0.496400  0.626667  0.600000   \n",
       "\n",
       "          5         6         7         8  \n",
       "0  0.529412  0.555556  0.857143  0.529412  \n",
       "1  0.666667  0.888889  0.529412  0.000000  \n",
       "2  0.687500  0.550000  0.814815  0.500000  \n",
       "3  0.481481  0.400000  0.804348  0.500000  \n",
       "4  0.500000  0.666667  0.808511  1.000000  \n",
       "5  0.666667  0.750000  0.810811  1.000000  "
      ]
     },
     "execution_count": 33,
     "metadata": {},
     "output_type": "execute_result"
    }
   ],
   "source": [
    "rep_df = pd.DataFrame(lst2)\n",
    "rep_df"
   ]
  },
  {
   "cell_type": "code",
   "execution_count": 34,
   "id": "906d049a",
   "metadata": {
    "colab": {
     "base_uri": "https://localhost:8080/",
     "height": 314
    },
    "id": "906d049a",
    "outputId": "15532efd-0c9d-45b6-d8aa-d7a691122a4e"
   },
   "outputs": [
    {
     "data": {
      "image/png": "[encoded data removed]",
      "text/plain": [
       "<Figure size 432x288 with 1 Axes>"
      ]
     },
     "metadata": {
      "needs_background": "light"
     },
     "output_type": "display_data"
    }
   ],
   "source": [
    "for i in range(6):\n",
    "    x = list(rep_df.iloc[i,:])\n",
    "    plt.title('Proportion of Defaulters Versus Repayment Status', fontsize=17, y = 1.05) \n",
    "    plt.ylabel('Proportion of Defaulters', fontsize=14)\n",
    "    plt.xlabel('Repayment Status', fontsize=14)\n",
    "    plt.scatter(rep_df.columns,x, label=\"pay {}\".format(i))\n",
    "    plt.legend()"
   ]
  },
  {
   "cell_type": "markdown",
   "id": "b8da3490",
   "metadata": {
    "id": "b8da3490"
   },
   "source": [
    "#### 7. Does the history of credit card bill amount has a correlation with the % of defaulters ?"
   ]
  },
  {
   "cell_type": "code",
   "execution_count": 35,
   "id": "a973416c",
   "metadata": {
    "id": "a973416c"
   },
   "outputs": [],
   "source": [
    "ls = ['bill_amt1', 'bill_amt2',\n",
    "       'bill_amt3', 'bill_amt4', 'bill_amt5', 'bill_amt6']"
   ]
  },
  {
   "cell_type": "code",
   "execution_count": 36,
   "id": "dc9acccc",
   "metadata": {
    "colab": {
     "base_uri": "https://localhost:8080/",
     "height": 235
    },
    "id": "dc9acccc",
    "outputId": "065deef6-b0ca-425c-bec8-c39a131ef11c"
   },
   "outputs": [
    {
     "data": {
      "text/html": [
       "<div>\n",
       "<style scoped>\n",
       "    .dataframe tbody tr th:only-of-type {\n",
       "        vertical-align: middle;\n",
       "    }\n",
       "\n",
       "    .dataframe tbody tr th {\n",
       "        vertical-align: top;\n",
       "    }\n",
       "\n",
       "    .dataframe thead th {\n",
       "        text-align: right;\n",
       "    }\n",
       "</style>\n",
       "<table border=\"1\" class=\"dataframe\">\n",
       "  <thead>\n",
       "    <tr style=\"text-align: right;\">\n",
       "      <th></th>\n",
       "      <th>Correlations</th>\n",
       "    </tr>\n",
       "  </thead>\n",
       "  <tbody>\n",
       "    <tr>\n",
       "      <th>bill_amt1</th>\n",
       "      <td>-0.022562</td>\n",
       "    </tr>\n",
       "    <tr>\n",
       "      <th>bill_amt2</th>\n",
       "      <td>-0.016293</td>\n",
       "    </tr>\n",
       "    <tr>\n",
       "      <th>bill_amt3</th>\n",
       "      <td>-0.014983</td>\n",
       "    </tr>\n",
       "    <tr>\n",
       "      <th>bill_amt4</th>\n",
       "      <td>-0.009084</td>\n",
       "    </tr>\n",
       "    <tr>\n",
       "      <th>bill_amt5</th>\n",
       "      <td>-0.005547</td>\n",
       "    </tr>\n",
       "    <tr>\n",
       "      <th>bill_amt6</th>\n",
       "      <td>-0.004120</td>\n",
       "    </tr>\n",
       "  </tbody>\n",
       "</table>\n",
       "</div>"
      ],
      "text/plain": [
       "           Correlations\n",
       "bill_amt1     -0.022562\n",
       "bill_amt2     -0.016293\n",
       "bill_amt3     -0.014983\n",
       "bill_amt4     -0.009084\n",
       "bill_amt5     -0.005547\n",
       "bill_amt6     -0.004120"
      ]
     },
     "execution_count": 36,
     "metadata": {},
     "output_type": "execute_result"
    }
   ],
   "source": [
    "loan[ls].corrwith(loan['defaulted']).to_frame('Correlations')"
   ]
  },
  {
   "cell_type": "markdown",
   "id": "XbE8O7na9gKG",
   "metadata": {
    "id": "XbE8O7na9gKG"
   },
   "source": [
    "#### **Feature engeenering**"
   ]
  },
  {
   "cell_type": "code",
   "execution_count": 37,
   "id": "f43f599b",
   "metadata": {
    "id": "f43f599b"
   },
   "outputs": [],
   "source": [
    "bills_amt  = loan.iloc[:,12:18]"
   ]
  },
  {
   "cell_type": "code",
   "execution_count": 38,
   "id": "639a3935",
   "metadata": {
    "id": "639a3935"
   },
   "outputs": [],
   "source": [
    "pays_amt = loan.iloc[:,18:-1]"
   ]
  },
  {
   "cell_type": "code",
   "execution_count": 39,
   "id": "4cb419cf",
   "metadata": {
    "id": "4cb419cf"
   },
   "outputs": [],
   "source": [
    "for i in range(6):\n",
    "    name = 'bill_pay_ratio0{}'.format(i+1)\n",
    "    loan[name] = (bills_amt.iloc[:,i] - pays_amt.iloc[:,i]) / loan['limit_bal']"
   ]
  },
  {
   "cell_type": "code",
   "execution_count": 40,
   "id": "153f110a",
   "metadata": {
    "colab": {
     "base_uri": "https://localhost:8080/",
     "height": 224
    },
    "id": "153f110a",
    "outputId": "47192d48-b3be-4870-f4c2-e93374dd6d3a"
   },
   "outputs": [
    {
     "data": {
      "text/html": [
       "<div>\n",
       "<style scoped>\n",
       "    .dataframe tbody tr th:only-of-type {\n",
       "        vertical-align: middle;\n",
       "    }\n",
       "\n",
       "    .dataframe tbody tr th {\n",
       "        vertical-align: top;\n",
       "    }\n",
       "\n",
       "    .dataframe thead th {\n",
       "        text-align: right;\n",
       "    }\n",
       "</style>\n",
       "<table border=\"1\" class=\"dataframe\">\n",
       "  <thead>\n",
       "    <tr style=\"text-align: right;\">\n",
       "      <th></th>\n",
       "      <th>id</th>\n",
       "      <th>limit_bal</th>\n",
       "      <th>sex</th>\n",
       "      <th>education</th>\n",
       "      <th>marriage</th>\n",
       "      <th>age</th>\n",
       "      <th>pay_0</th>\n",
       "      <th>pay_2</th>\n",
       "      <th>pay_3</th>\n",
       "      <th>pay_4</th>\n",
       "      <th>...</th>\n",
       "      <th>pay_amt4</th>\n",
       "      <th>pay_amt5</th>\n",
       "      <th>pay_amt6</th>\n",
       "      <th>defaulted</th>\n",
       "      <th>bill_pay_ratio01</th>\n",
       "      <th>bill_pay_ratio02</th>\n",
       "      <th>bill_pay_ratio03</th>\n",
       "      <th>bill_pay_ratio04</th>\n",
       "      <th>bill_pay_ratio05</th>\n",
       "      <th>bill_pay_ratio06</th>\n",
       "    </tr>\n",
       "  </thead>\n",
       "  <tbody>\n",
       "    <tr>\n",
       "      <th>0</th>\n",
       "      <td>1</td>\n",
       "      <td>20000</td>\n",
       "      <td>female</td>\n",
       "      <td>university</td>\n",
       "      <td>married</td>\n",
       "      <td>24</td>\n",
       "      <td>2</td>\n",
       "      <td>2</td>\n",
       "      <td>-1</td>\n",
       "      <td>-1</td>\n",
       "      <td>...</td>\n",
       "      <td>0</td>\n",
       "      <td>0</td>\n",
       "      <td>0</td>\n",
       "      <td>1</td>\n",
       "      <td>0.195650</td>\n",
       "      <td>0.120650</td>\n",
       "      <td>0.034450</td>\n",
       "      <td>0.000000</td>\n",
       "      <td>0.000000</td>\n",
       "      <td>0.000000</td>\n",
       "    </tr>\n",
       "    <tr>\n",
       "      <th>1</th>\n",
       "      <td>2</td>\n",
       "      <td>120000</td>\n",
       "      <td>female</td>\n",
       "      <td>university</td>\n",
       "      <td>single</td>\n",
       "      <td>26</td>\n",
       "      <td>-1</td>\n",
       "      <td>2</td>\n",
       "      <td>0</td>\n",
       "      <td>0</td>\n",
       "      <td>...</td>\n",
       "      <td>1000</td>\n",
       "      <td>0</td>\n",
       "      <td>2000</td>\n",
       "      <td>1</td>\n",
       "      <td>0.022350</td>\n",
       "      <td>0.006042</td>\n",
       "      <td>0.014017</td>\n",
       "      <td>0.018933</td>\n",
       "      <td>0.028792</td>\n",
       "      <td>0.010508</td>\n",
       "    </tr>\n",
       "    <tr>\n",
       "      <th>2</th>\n",
       "      <td>3</td>\n",
       "      <td>90000</td>\n",
       "      <td>female</td>\n",
       "      <td>university</td>\n",
       "      <td>single</td>\n",
       "      <td>34</td>\n",
       "      <td>0</td>\n",
       "      <td>0</td>\n",
       "      <td>0</td>\n",
       "      <td>0</td>\n",
       "      <td>...</td>\n",
       "      <td>1000</td>\n",
       "      <td>1000</td>\n",
       "      <td>5000</td>\n",
       "      <td>0</td>\n",
       "      <td>0.308011</td>\n",
       "      <td>0.139189</td>\n",
       "      <td>0.139544</td>\n",
       "      <td>0.148122</td>\n",
       "      <td>0.154978</td>\n",
       "      <td>0.117211</td>\n",
       "    </tr>\n",
       "    <tr>\n",
       "      <th>3</th>\n",
       "      <td>4</td>\n",
       "      <td>50000</td>\n",
       "      <td>female</td>\n",
       "      <td>university</td>\n",
       "      <td>married</td>\n",
       "      <td>37</td>\n",
       "      <td>0</td>\n",
       "      <td>0</td>\n",
       "      <td>0</td>\n",
       "      <td>0</td>\n",
       "      <td>...</td>\n",
       "      <td>1100</td>\n",
       "      <td>1069</td>\n",
       "      <td>1000</td>\n",
       "      <td>0</td>\n",
       "      <td>0.899800</td>\n",
       "      <td>0.924280</td>\n",
       "      <td>0.961820</td>\n",
       "      <td>0.544280</td>\n",
       "      <td>0.557800</td>\n",
       "      <td>0.570940</td>\n",
       "    </tr>\n",
       "    <tr>\n",
       "      <th>4</th>\n",
       "      <td>5</td>\n",
       "      <td>50000</td>\n",
       "      <td>male</td>\n",
       "      <td>university</td>\n",
       "      <td>married</td>\n",
       "      <td>57</td>\n",
       "      <td>-1</td>\n",
       "      <td>0</td>\n",
       "      <td>-1</td>\n",
       "      <td>0</td>\n",
       "      <td>...</td>\n",
       "      <td>9000</td>\n",
       "      <td>689</td>\n",
       "      <td>679</td>\n",
       "      <td>0</td>\n",
       "      <td>0.132340</td>\n",
       "      <td>-0.620220</td>\n",
       "      <td>0.516700</td>\n",
       "      <td>0.238800</td>\n",
       "      <td>0.369140</td>\n",
       "      <td>0.369040</td>\n",
       "    </tr>\n",
       "  </tbody>\n",
       "</table>\n",
       "<p>5 rows × 31 columns</p>\n",
       "</div>"
      ],
      "text/plain": [
       "   id  limit_bal     sex   education marriage  age  pay_0  pay_2  pay_3  \\\n",
       "0   1      20000  female  university  married   24      2      2     -1   \n",
       "1   2     120000  female  university   single   26     -1      2      0   \n",
       "2   3      90000  female  university   single   34      0      0      0   \n",
       "3   4      50000  female  university  married   37      0      0      0   \n",
       "4   5      50000    male  university  married   57     -1      0     -1   \n",
       "\n",
       "   pay_4  ...  pay_amt4  pay_amt5  pay_amt6  defaulted  bill_pay_ratio01  \\\n",
       "0     -1  ...         0         0         0          1          0.195650   \n",
       "1      0  ...      1000         0      2000          1          0.022350   \n",
       "2      0  ...      1000      1000      5000          0          0.308011   \n",
       "3      0  ...      1100      1069      1000          0          0.899800   \n",
       "4      0  ...      9000       689       679          0          0.132340   \n",
       "\n",
       "   bill_pay_ratio02  bill_pay_ratio03  bill_pay_ratio04  bill_pay_ratio05  \\\n",
       "0          0.120650          0.034450          0.000000          0.000000   \n",
       "1          0.006042          0.014017          0.018933          0.028792   \n",
       "2          0.139189          0.139544          0.148122          0.154978   \n",
       "3          0.924280          0.961820          0.544280          0.557800   \n",
       "4         -0.620220          0.516700          0.238800          0.369140   \n",
       "\n",
       "   bill_pay_ratio06  \n",
       "0          0.000000  \n",
       "1          0.010508  \n",
       "2          0.117211  \n",
       "3          0.570940  \n",
       "4          0.369040  \n",
       "\n",
       "[5 rows x 31 columns]"
      ]
     },
     "execution_count": 40,
     "metadata": {},
     "output_type": "execute_result"
    }
   ],
   "source": [
    "loan.head()"
   ]
  },
  {
   "cell_type": "code",
   "execution_count": 41,
   "id": "291470d4",
   "metadata": {
    "colab": {
     "base_uri": "https://localhost:8080/"
    },
    "id": "291470d4",
    "outputId": "3d41c122-290c-4583-a87b-db7f46f6448b"
   },
   "outputs": [
    {
     "data": {
      "text/plain": [
       "Index(['id', 'limit_bal', 'sex', 'education', 'marriage', 'age', 'pay_0',\n",
       "       'pay_2', 'pay_3', 'pay_4', 'pay_5', 'pay_6', 'bill_amt1', 'bill_amt2',\n",
       "       'bill_amt3', 'bill_amt4', 'bill_amt5', 'bill_amt6', 'pay_amt1',\n",
       "       'pay_amt2', 'pay_amt3', 'pay_amt4', 'pay_amt5', 'pay_amt6', 'defaulted',\n",
       "       'bill_pay_ratio01', 'bill_pay_ratio02', 'bill_pay_ratio03',\n",
       "       'bill_pay_ratio04', 'bill_pay_ratio05', 'bill_pay_ratio06'],\n",
       "      dtype='object')"
      ]
     },
     "execution_count": 41,
     "metadata": {},
     "output_type": "execute_result"
    }
   ],
   "source": [
    "loan.columns"
   ]
  },
  {
   "cell_type": "code",
   "execution_count": 42,
   "id": "2116d34d",
   "metadata": {
    "id": "2116d34d"
   },
   "outputs": [],
   "source": [
    "categorical = ['sex', 'education', 'marriage']"
   ]
  },
  {
   "cell_type": "code",
   "execution_count": 43,
   "id": "4cac9898",
   "metadata": {
    "colab": {
     "base_uri": "https://localhost:8080/",
     "height": 142
    },
    "id": "4cac9898",
    "outputId": "fb25dd82-f853-4a95-f9c4-4e0f427c67ff"
   },
   "outputs": [
    {
     "data": {
      "text/html": [
       "<div>\n",
       "<style scoped>\n",
       "    .dataframe tbody tr th:only-of-type {\n",
       "        vertical-align: middle;\n",
       "    }\n",
       "\n",
       "    .dataframe tbody tr th {\n",
       "        vertical-align: top;\n",
       "    }\n",
       "\n",
       "    .dataframe thead th {\n",
       "        text-align: right;\n",
       "    }\n",
       "</style>\n",
       "<table border=\"1\" class=\"dataframe\">\n",
       "  <thead>\n",
       "    <tr style=\"text-align: right;\">\n",
       "      <th></th>\n",
       "      <th>Mi</th>\n",
       "    </tr>\n",
       "  </thead>\n",
       "  <tbody>\n",
       "    <tr>\n",
       "      <th>education</th>\n",
       "      <td>0.002918</td>\n",
       "    </tr>\n",
       "    <tr>\n",
       "      <th>sex</th>\n",
       "      <td>0.000727</td>\n",
       "    </tr>\n",
       "    <tr>\n",
       "      <th>marriage</th>\n",
       "      <td>0.000624</td>\n",
       "    </tr>\n",
       "  </tbody>\n",
       "</table>\n",
       "</div>"
      ],
      "text/plain": [
       "                 Mi\n",
       "education  0.002918\n",
       "sex        0.000727\n",
       "marriage   0.000624"
      ]
     },
     "execution_count": 43,
     "metadata": {},
     "output_type": "execute_result"
    }
   ],
   "source": [
    "#Calculating dependency score\n",
    "from sklearn.metrics import mutual_info_score\n",
    "\n",
    "def calculate_mi(series):\n",
    "    return mutual_info_score(series, loan['defaulted'])\n",
    "\n",
    "data_mi = loan[categorical].apply(calculate_mi)\n",
    "data_mi = data_mi.sort_values(ascending=False).to_frame(name='Mi')\n",
    "data_mi"
   ]
  },
  {
   "cell_type": "markdown",
   "id": "723a4ecb",
   "metadata": {
    "id": "723a4ecb"
   },
   "source": [
    "Dependency between target variable and categorical variables are for Education is strong, but it's not quite good for gender and marriage."
   ]
  },
  {
   "cell_type": "code",
   "execution_count": 44,
   "id": "03bda20c",
   "metadata": {
    "id": "03bda20c"
   },
   "outputs": [],
   "source": [
    "#Splitting data\n",
    "from sklearn.model_selection import train_test_split"
   ]
  },
  {
   "cell_type": "code",
   "execution_count": 45,
   "id": "4a382bd4",
   "metadata": {
    "id": "4a382bd4"
   },
   "outputs": [],
   "source": [
    "train_full, test_X = train_test_split(loan, test_size=0.2, random_state=1)  "
   ]
  },
  {
   "cell_type": "code",
   "execution_count": 46,
   "id": "5e0de9d8",
   "metadata": {
    "id": "5e0de9d8"
   },
   "outputs": [],
   "source": [
    "train_X, val_X = train_test_split(train_full, test_size=0.2, random_state=1)"
   ]
  },
  {
   "cell_type": "code",
   "execution_count": 47,
   "id": "63a5dd6e",
   "metadata": {
    "id": "63a5dd6e"
   },
   "outputs": [],
   "source": [
    "train_y = train_X['defaulted'].values.reshape(-1,1)\n",
    "val_y = val_X['defaulted'].values.reshape(-1,1)\n",
    "test_y = test_X['defaulted'].values.reshape(-1,1)"
   ]
  },
  {
   "cell_type": "code",
   "execution_count": 48,
   "id": "dd681742",
   "metadata": {
    "id": "dd681742"
   },
   "outputs": [],
   "source": [
    "del train_X['defaulted']\n",
    "del val_X['defaulted']\n",
    "del test_X['defaulted']"
   ]
  },
  {
   "cell_type": "code",
   "execution_count": 49,
   "id": "a98d0a76",
   "metadata": {
    "id": "a98d0a76"
   },
   "outputs": [],
   "source": [
    "#Encoding data\n",
    "train_dict = train_X.to_dict(orient='rows')"
   ]
  },
  {
   "cell_type": "code",
   "execution_count": 50,
   "id": "df8ff5f9",
   "metadata": {
    "colab": {
     "base_uri": "https://localhost:8080/"
    },
    "id": "df8ff5f9",
    "outputId": "feb7a4ca-d8ec-4a8b-d041-c49d3ad2c1cd"
   },
   "outputs": [
    {
     "data": {
      "text/plain": [
       "{'id': 1856,\n",
       " 'limit_bal': 220000,\n",
       " 'sex': 'female',\n",
       " 'education': 'university',\n",
       " 'marriage': 'married',\n",
       " 'age': 54,\n",
       " 'pay_0': -1,\n",
       " 'pay_2': -1,\n",
       " 'pay_3': -1,\n",
       " 'pay_4': -1,\n",
       " 'pay_5': -2,\n",
       " 'pay_6': -2,\n",
       " 'bill_amt1': 8727,\n",
       " 'bill_amt2': 2553,\n",
       " 'bill_amt3': 147,\n",
       " 'bill_amt4': 0,\n",
       " 'bill_amt5': 0,\n",
       " 'bill_amt6': 0,\n",
       " 'pay_amt1': 3011,\n",
       " 'pay_amt2': 147,\n",
       " 'pay_amt3': 0,\n",
       " 'pay_amt4': 0,\n",
       " 'pay_amt5': 0,\n",
       " 'pay_amt6': 0,\n",
       " 'bill_pay_ratio01': 0.025981818181818182,\n",
       " 'bill_pay_ratio02': 0.010936363636363636,\n",
       " 'bill_pay_ratio03': 0.0006681818181818182,\n",
       " 'bill_pay_ratio04': 0.0,\n",
       " 'bill_pay_ratio05': 0.0,\n",
       " 'bill_pay_ratio06': 0.0}"
      ]
     },
     "execution_count": 50,
     "metadata": {},
     "output_type": "execute_result"
    }
   ],
   "source": [
    "train_dict[0]"
   ]
  },
  {
   "cell_type": "code",
   "execution_count": 51,
   "id": "5c86969b",
   "metadata": {
    "colab": {
     "base_uri": "https://localhost:8080/"
    },
    "id": "5c86969b",
    "outputId": "cd5a5bdc-49ce-4eb7-cc79-8bb22eaa5fbf"
   },
   "outputs": [
    {
     "data": {
      "text/plain": [
       "DictVectorizer(sparse=False)"
      ]
     },
     "execution_count": 51,
     "metadata": {},
     "output_type": "execute_result"
    }
   ],
   "source": [
    "from sklearn.feature_extraction import DictVectorizer\n",
    "\n",
    "dv = DictVectorizer(sparse=False)\n",
    "dv.fit(train_dict)"
   ]
  },
  {
   "cell_type": "code",
   "execution_count": 52,
   "id": "247a76b0",
   "metadata": {
    "colab": {
     "base_uri": "https://localhost:8080/"
    },
    "id": "247a76b0",
    "outputId": "0f93c4bc-0d84-45e7-8c54-2b10b525bd27"
   },
   "outputs": [
    {
     "data": {
      "text/plain": [
       "36"
      ]
     },
     "execution_count": 52,
     "metadata": {},
     "output_type": "execute_result"
    }
   ],
   "source": [
    "X_train = dv.transform(train_dict)\n",
    "len(X_train[0])"
   ]
  },
  {
   "cell_type": "code",
   "execution_count": 53,
   "id": "5b4d7380",
   "metadata": {
    "id": "5b4d7380"
   },
   "outputs": [],
   "source": [
    "val_dict = val_X.to_dict(orient='rows')\n",
    "\n",
    "X_val = dv.transform(val_dict)"
   ]
  },
  {
   "cell_type": "code",
   "execution_count": 54,
   "id": "bf12a415",
   "metadata": {
    "colab": {
     "base_uri": "https://localhost:8080/"
    },
    "id": "bf12a415",
    "outputId": "7185c27f-1b54-4f44-e7ab-9988fb826579"
   },
   "outputs": [
    {
     "data": {
      "text/plain": [
       "36"
      ]
     },
     "execution_count": 54,
     "metadata": {},
     "output_type": "execute_result"
    }
   ],
   "source": [
    "len(X_val[0])"
   ]
  },
  {
   "cell_type": "markdown",
   "id": "a8cd3894",
   "metadata": {},
   "source": [
    "#### Logistic Regression"
   ]
  },
  {
   "cell_type": "code",
   "execution_count": 55,
   "id": "0f67527a",
   "metadata": {
    "colab": {
     "base_uri": "https://localhost:8080/"
    },
    "id": "0f67527a",
    "outputId": "b1853640-6eef-4a27-e22b-ed2d2bd865eb"
   },
   "outputs": [
    {
     "data": {
      "text/plain": [
       "LogisticRegression(random_state=1, solver='liblinear')"
      ]
     },
     "execution_count": 55,
     "metadata": {},
     "output_type": "execute_result"
    }
   ],
   "source": [
    "#Creating LogisticRegression model\n",
    "from sklearn.linear_model import LogisticRegression\n",
    "\n",
    "model = LogisticRegression(solver='liblinear', random_state=1)\n",
    "model.fit(X_train, train_y)"
   ]
  },
  {
   "cell_type": "code",
   "execution_count": 56,
   "id": "a9786907",
   "metadata": {
    "id": "a9786907"
   },
   "outputs": [],
   "source": [
    "preds = model.predict_proba(X_val)[:,1]"
   ]
  },
  {
   "cell_type": "code",
   "execution_count": 57,
   "id": "24ae0417",
   "metadata": {
    "id": "24ae0417"
   },
   "outputs": [],
   "source": [
    "y_pred = (preds>0.49).reshape(-1,1)"
   ]
  },
  {
   "cell_type": "code",
   "execution_count": 58,
   "id": "m8O-claR-g88",
   "metadata": {
    "id": "m8O-claR-g88"
   },
   "outputs": [],
   "source": [
    "from sklearn.metrics import accuracy_score"
   ]
  },
  {
   "cell_type": "code",
   "execution_count": 59,
   "id": "KrJIIitg-MwM",
   "metadata": {
    "colab": {
     "base_uri": "https://localhost:8080/"
    },
    "id": "KrJIIitg-MwM",
    "outputId": "153b0b8a-cffd-41b2-b9fd-b5b9dd69e27b"
   },
   "outputs": [
    {
     "data": {
      "text/plain": [
       "0.7744444444444445"
      ]
     },
     "execution_count": 59,
     "metadata": {},
     "output_type": "execute_result"
    }
   ],
   "source": [
    "accuracy_score(val_y, y_pred)"
   ]
  },
  {
   "cell_type": "code",
   "execution_count": 60,
   "id": "f9f8e2ab",
   "metadata": {
    "id": "f9f8e2ab"
   },
   "outputs": [],
   "source": [
    "from sklearn.metrics import roc_auc_score"
   ]
  },
  {
   "cell_type": "code",
   "execution_count": 61,
   "id": "504b5097",
   "metadata": {
    "colab": {
     "base_uri": "https://localhost:8080/"
    },
    "id": "504b5097",
    "outputId": "aeb6ef39-bed9-45d9-a1ed-37d1c6867dec"
   },
   "outputs": [
    {
     "data": {
      "text/plain": [
       "0.5"
      ]
     },
     "execution_count": 61,
     "metadata": {},
     "output_type": "execute_result"
    }
   ],
   "source": [
    "roc_auc_score(val_y, y_pred)"
   ]
  },
  {
   "cell_type": "markdown",
   "id": "7df2e7f9",
   "metadata": {},
   "source": [
    "#### Decision Tree Classifier"
   ]
  },
  {
   "cell_type": "code",
   "execution_count": 62,
   "id": "f835d450",
   "metadata": {
    "id": "f835d450"
   },
   "outputs": [],
   "source": [
    "from sklearn.tree import DecisionTreeClassifier"
   ]
  },
  {
   "cell_type": "code",
   "execution_count": 63,
   "id": "FTuVfwU6_mu_",
   "metadata": {
    "colab": {
     "base_uri": "https://localhost:8080/"
    },
    "id": "FTuVfwU6_mu_",
    "outputId": "b86cc705-2d96-493f-9d59-046d5e68f5dc"
   },
   "outputs": [
    {
     "data": {
      "text/plain": [
       "DecisionTreeClassifier()"
      ]
     },
     "execution_count": 63,
     "metadata": {},
     "output_type": "execute_result"
    }
   ],
   "source": [
    "dt = DecisionTreeClassifier()\n",
    "dt.fit(X_train, train_y)"
   ]
  },
  {
   "cell_type": "code",
   "execution_count": 64,
   "id": "0gyy_qIL_ryF",
   "metadata": {
    "colab": {
     "base_uri": "https://localhost:8080/"
    },
    "id": "0gyy_qIL_ryF",
    "outputId": "169bce4c-e51e-4583-d9ae-1fb7c4a9657d"
   },
   "outputs": [
    {
     "data": {
      "text/plain": [
       "1.0"
      ]
     },
     "execution_count": 64,
     "metadata": {},
     "output_type": "execute_result"
    }
   ],
   "source": [
    "y_pred = dt.predict_proba(X_train)[:,1]\n",
    "roc_auc_score(train_y, y_pred)"
   ]
  },
  {
   "cell_type": "code",
   "execution_count": 65,
   "id": "mlPBy3Zk_uEv",
   "metadata": {
    "colab": {
     "base_uri": "https://localhost:8080/"
    },
    "id": "mlPBy3Zk_uEv",
    "outputId": "fd09168b-60b1-432d-d14f-a6d9bd21445d"
   },
   "outputs": [
    {
     "data": {
      "text/plain": [
       "0.5976537376935636"
      ]
     },
     "execution_count": 65,
     "metadata": {},
     "output_type": "execute_result"
    }
   ],
   "source": [
    "y_pred = dt.predict_proba(X_val)[:,1]\n",
    "roc_auc_score(val_y, y_pred)"
   ]
  },
  {
   "cell_type": "markdown",
   "id": "5a43e843",
   "metadata": {},
   "source": [
    "overfitting"
   ]
  },
  {
   "cell_type": "code",
   "execution_count": 66,
   "id": "8OehfdUW_2A2",
   "metadata": {
    "colab": {
     "base_uri": "https://localhost:8080/"
    },
    "id": "8OehfdUW_2A2",
    "outputId": "60bd6f35-c627-4742-dcbe-82015d6a404c"
   },
   "outputs": [
    {
     "data": {
      "text/plain": [
       "DecisionTreeClassifier(max_depth=2)"
      ]
     },
     "execution_count": 66,
     "metadata": {},
     "output_type": "execute_result"
    }
   ],
   "source": [
    "dt = DecisionTreeClassifier(max_depth=2)\n",
    "dt.fit(X_train, train_y)"
   ]
  },
  {
   "cell_type": "code",
   "execution_count": 67,
   "id": "-Ytrq1bq_5lB",
   "metadata": {
    "colab": {
     "base_uri": "https://localhost:8080/"
    },
    "id": "-Ytrq1bq_5lB",
    "outputId": "a1403d81-4028-482e-b12f-44db3187d1b7"
   },
   "outputs": [
    {
     "name": "stdout",
     "output_type": "stream",
     "text": [
      "|--- pay_0 <= 1.50\n",
      "|   |--- pay_2 <= 1.50\n",
      "|   |   |--- class: 0\n",
      "|   |--- pay_2 >  1.50\n",
      "|   |   |--- class: 0\n",
      "|--- pay_0 >  1.50\n",
      "|   |--- pay_3 <= -0.50\n",
      "|   |   |--- class: 0\n",
      "|   |--- pay_3 >  -0.50\n",
      "|   |   |--- class: 1\n",
      "\n"
     ]
    }
   ],
   "source": [
    "from sklearn.tree import export_text\n",
    "\n",
    "tree_text = export_text(dt, feature_names=dv.feature_names_)\n",
    "print(tree_text)"
   ]
  },
  {
   "cell_type": "code",
   "execution_count": 68,
   "id": "5Gm2UmFF_-fB",
   "metadata": {
    "colab": {
     "base_uri": "https://localhost:8080/"
    },
    "id": "5Gm2UmFF_-fB",
    "outputId": "29826101-5074-4fca-d5c7-cae81fc56ef6"
   },
   "outputs": [
    {
     "data": {
      "text/plain": [
       "0.6985141251755892"
      ]
     },
     "execution_count": 68,
     "metadata": {},
     "output_type": "execute_result"
    }
   ],
   "source": [
    "y_pred = dt.predict_proba(X_train)[:,1]\n",
    "roc_auc_score(train_y, y_pred)"
   ]
  },
  {
   "cell_type": "code",
   "execution_count": 69,
   "id": "82G3Lf_zAA5V",
   "metadata": {
    "colab": {
     "base_uri": "https://localhost:8080/"
    },
    "id": "82G3Lf_zAA5V",
    "outputId": "15bff88b-2689-4ff3-de12-4cb7c07cd5f5"
   },
   "outputs": [
    {
     "data": {
      "text/plain": [
       "0.6812140436494194"
      ]
     },
     "execution_count": 69,
     "metadata": {},
     "output_type": "execute_result"
    }
   ],
   "source": [
    "y_pred = dt.predict_proba(X_val)[:,1]\n",
    "roc_auc_score(val_y, y_pred)"
   ]
  },
  {
   "cell_type": "code",
   "execution_count": 70,
   "id": "V-jWKvP5AC98",
   "metadata": {
    "id": "V-jWKvP5AC98"
   },
   "outputs": [
    {
     "name": "stdout",
     "output_type": "stream",
     "text": [
      "1-->0.6230042900255139\n",
      "2-->0.6812140436494194\n",
      "3-->0.7192058593832823\n",
      "4-->0.7346651023740025\n",
      "5-->0.7374126269515375\n",
      "6-->0.7328478489797937\n",
      "10-->0.7003334134326564\n",
      "15-->0.6119000060074493\n",
      "20-->0.5911634838965023\n",
      "None-->0.597031790007845\n"
     ]
    }
   ],
   "source": [
    "for depth in [1,2,3,4,5,6,10,15,20,None]:\n",
    "    dt = DecisionTreeClassifier(max_depth=depth)\n",
    "    dt.fit(X_train, train_y)\n",
    "    y_pred = dt.predict_proba(X_val)[:,1]\n",
    "    auc = roc_auc_score(val_y, y_pred)\n",
    "    print(f'{depth}-->{auc}')"
   ]
  },
  {
   "cell_type": "code",
   "execution_count": 71,
   "id": "af1f5f04",
   "metadata": {},
   "outputs": [
    {
     "name": "stdout",
     "output_type": "stream",
     "text": [
      "depth: 4\n",
      "1-->0.7346651023740025\n",
      "5-->0.7346651023740025\n",
      "10-->0.7351452565887583\n",
      "15-->0.7353440324826314\n",
      "20-->0.7357451180640465\n",
      "50-->0.7362277017619495\n",
      "100-->0.735312449201716\n",
      "200-->0.7360172201765484\n",
      "\n",
      "depth: 5\n",
      "1-->0.7380661579181714\n",
      "5-->0.7383057933013407\n",
      "10-->0.7397535443950498\n",
      "15-->0.7386649150829381\n",
      "20-->0.7443688997886792\n",
      "50-->0.7461729014566297\n",
      "100-->0.7466084415263161\n",
      "200-->0.7491479140015972\n",
      "\n",
      "depth: 6\n",
      "1-->0.7308905690114565\n",
      "5-->0.7334039797584299\n",
      "10-->0.7365958788898234\n",
      "15-->0.7402803005138135\n",
      "20-->0.7400408859927486\n",
      "50-->0.7416662102183178\n",
      "100-->0.7497641192726039\n",
      "200-->0.7500322458672283\n",
      "\n"
     ]
    }
   ],
   "source": [
    "for m in [4,5,6]:\n",
    "    print(f'depth: {m}')\n",
    "    \n",
    "    for s in [1,5,10,15,20,50,100,200]:\n",
    "        dt=DecisionTreeClassifier(max_depth=m, min_samples_leaf=s)\n",
    "        dt.fit(X_train, train_y)\n",
    "        y_pred = dt.predict_proba(X_val)[:,1]\n",
    "        auc = roc_auc_score(val_y, y_pred)\n",
    "        print(f'{s}-->{auc}')\n",
    "        \n",
    "    print()"
   ]
  },
  {
   "cell_type": "code",
   "execution_count": 72,
   "id": "e48b335a",
   "metadata": {},
   "outputs": [
    {
     "data": {
      "text/plain": [
       "DecisionTreeClassifier(max_depth=6, min_samples_leaf=200)"
      ]
     },
     "execution_count": 72,
     "metadata": {},
     "output_type": "execute_result"
    }
   ],
   "source": [
    "dt = DecisionTreeClassifier(max_depth=6, min_samples_leaf=200)\n",
    "dt.fit(X_train, train_y)"
   ]
  },
  {
   "cell_type": "code",
   "execution_count": 73,
   "id": "2697ba26",
   "metadata": {},
   "outputs": [
    {
     "data": {
      "text/plain": [
       "0.7500322458672283"
      ]
     },
     "execution_count": 73,
     "metadata": {},
     "output_type": "execute_result"
    }
   ],
   "source": [
    "y_pred = dt.predict_proba(X_val)[:,1]\n",
    "roc_auc_score(val_y, y_pred)"
   ]
  },
  {
   "cell_type": "markdown",
   "id": "7dd17d13",
   "metadata": {},
   "source": [
    "#### Random Forest"
   ]
  },
  {
   "cell_type": "code",
   "execution_count": 74,
   "id": "61fcd7e8",
   "metadata": {},
   "outputs": [],
   "source": [
    "from sklearn.ensemble import RandomForestClassifier"
   ]
  },
  {
   "cell_type": "code",
   "execution_count": 75,
   "id": "63d69fce",
   "metadata": {},
   "outputs": [
    {
     "data": {
      "text/plain": [
       "RandomForestClassifier(n_estimators=10)"
      ]
     },
     "execution_count": 75,
     "metadata": {},
     "output_type": "execute_result"
    }
   ],
   "source": [
    "rf = RandomForestClassifier(n_estimators=10)\n",
    "rf.fit(X_train, train_y)"
   ]
  },
  {
   "cell_type": "code",
   "execution_count": 76,
   "id": "ea2e4d8c",
   "metadata": {},
   "outputs": [
    {
     "data": {
      "text/plain": [
       "0.7185348803104085"
      ]
     },
     "execution_count": 76,
     "metadata": {},
     "output_type": "execute_result"
    }
   ],
   "source": [
    "y_pred = rf.predict_proba(X_val)[:,1]\n",
    "roc_auc_score(val_y, y_pred)"
   ]
  },
  {
   "cell_type": "code",
   "execution_count": 77,
   "id": "dabec24f",
   "metadata": {},
   "outputs": [
    {
     "data": {
      "text/plain": [
       "RandomForestClassifier(n_estimators=10, random_state=3)"
      ]
     },
     "execution_count": 77,
     "metadata": {},
     "output_type": "execute_result"
    }
   ],
   "source": [
    "rf = RandomForestClassifier(n_estimators=10, random_state=3)\n",
    "rf.fit(X_train, train_y)"
   ]
  },
  {
   "cell_type": "code",
   "execution_count": 78,
   "id": "e9c814dc",
   "metadata": {},
   "outputs": [
    {
     "data": {
      "text/plain": [
       "0.725932214769844"
      ]
     },
     "execution_count": 78,
     "metadata": {},
     "output_type": "execute_result"
    }
   ],
   "source": [
    "y_pred = rf.predict_proba(X_val)[:,1]\n",
    "roc_auc_score(val_y, y_pred)"
   ]
  },
  {
   "cell_type": "code",
   "execution_count": 79,
   "id": "1cb3b450",
   "metadata": {},
   "outputs": [
    {
     "name": "stdout",
     "output_type": "stream",
     "text": [
      "10-->0.725932214769844\n",
      "20-->0.7398403432020412\n",
      "30-->0.7467513393078005\n",
      "40-->0.7487561046285629\n",
      "50-->0.7524175565937058\n",
      "60-->0.7550855708136914\n",
      "70-->0.7561629361584835\n",
      "80-->0.7559151288774552\n",
      "90-->0.7574792743001323\n",
      "100-->0.7566011265734217\n",
      "110-->0.7569757087023202\n",
      "120-->0.7567409322854457\n",
      "130-->0.7572577496095156\n",
      "140-->0.7572213073623056\n",
      "150-->0.7579391092012919\n",
      "160-->0.7579647292053913\n",
      "170-->0.7569182845552014\n",
      "180-->0.7571645458014997\n",
      "190-->0.7573180449639906\n",
      "200-->0.7579095136793151\n"
     ]
    }
   ],
   "source": [
    "aucs = []\n",
    "\n",
    "for i in range(10, 201, 10):\n",
    "    rf = RandomForestClassifier(n_estimators=i, random_state=3)\n",
    "    rf.fit(X_train, train_y)\n",
    "    \n",
    "    y_pred = rf.predict_proba(X_val)[:,1]\n",
    "    auc = roc_auc_score(val_y, y_pred)\n",
    "    print(f'{i}-->{auc}')\n",
    "    \n",
    "    aucs.append(auc)"
   ]
  },
  {
   "cell_type": "code",
   "execution_count": 80,
   "id": "cd3f047e",
   "metadata": {},
   "outputs": [
    {
     "data": {
      "image/png": "[encoded data removed]",
      "text/plain": [
       "<Figure size 432x288 with 1 Axes>"
      ]
     },
     "metadata": {
      "needs_background": "light"
     },
     "output_type": "display_data"
    }
   ],
   "source": [
    "plt.plot(range(10,201,10), aucs)\n",
    "plt.show()"
   ]
  },
  {
   "cell_type": "code",
   "execution_count": 81,
   "id": "91240a5a",
   "metadata": {},
   "outputs": [
    {
     "name": "stdout",
     "output_type": "stream",
     "text": [
      "depth: 5\n",
      "10-->0.7693563548211546\n",
      "20-->0.7729475726371289\n",
      "30-->0.7731289004247619\n",
      "40-->0.7738281498469868\n",
      "50-->0.7741051109257834\n",
      "60-->0.7744211645970415\n",
      "70-->0.7749346689895471\n",
      "80-->0.7749867924461626\n",
      "90-->0.7748907174307906\n",
      "100-->0.7754625294188323\n",
      "110-->0.7755528620194924\n",
      "120-->0.7755124442544048\n",
      "130-->0.7757774787795689\n",
      "140-->0.7758044239562941\n",
      "150-->0.7758103872331102\n",
      "160-->0.7760319119237266\n",
      "170-->0.7761425638379826\n",
      "180-->0.7761502940116333\n",
      "190-->0.7760040832985844\n",
      "200-->0.7760959619339746\n",
      "\n",
      "depth: 10\n",
      "10-->0.7561061745976776\n",
      "20-->0.7671183591182478\n",
      "30-->0.7662236467337145\n",
      "40-->0.7690345587351846\n",
      "50-->0.7717507208939084\n",
      "60-->0.7729831314359217\n",
      "70-->0.7733638977037408\n",
      "80-->0.7742647942271947\n",
      "90-->0.7744560608095215\n",
      "100-->0.7744997915061735\n",
      "110-->0.7755687640910023\n",
      "120-->0.7758267310288287\n",
      "130-->0.7762843573089454\n",
      "140-->0.7766010735665166\n",
      "150-->0.7761014834865821\n",
      "160-->0.7760104882996091\n",
      "170-->0.7763466404223589\n",
      "180-->0.7765913556339272\n",
      "190-->0.7765639687329937\n",
      "200-->0.7767662784205356\n",
      "\n",
      "depth: 20\n",
      "10-->0.7301963994176308\n",
      "20-->0.7415955343449406\n",
      "30-->0.7474050911365389\n",
      "40-->0.7524904410881257\n",
      "50-->0.7534291050314154\n",
      "60-->0.7589747316083709\n",
      "70-->0.7586540398329222\n",
      "80-->0.7589597129852781\n",
      "90-->0.7586580153507997\n",
      "100-->0.7611422723000051\n",
      "110-->0.763484514916143\n",
      "120-->0.7640216515538091\n",
      "130-->0.7642389798644437\n",
      "140-->0.7628413644684114\n",
      "150-->0.7628038179106799\n",
      "160-->0.7631470376207674\n",
      "170-->0.7627229823805048\n",
      "180-->0.7629208748259606\n",
      "190-->0.7627154730689585\n",
      "200-->0.7637219416782693\n",
      "\n"
     ]
    }
   ],
   "source": [
    "all_aucs = {}\n",
    "\n",
    "for depth in [5,10,20]:\n",
    "    print(f'depth: {depth}')\n",
    "    aucs = []\n",
    "    \n",
    "    for i in range(10, 201, 10):\n",
    "        rf = RandomForestClassifier(n_estimators=i, max_depth=depth, random_state=1)\n",
    "        rf.fit(X_train, train_y)\n",
    "        y_pred = rf.predict_proba(X_val)[:,1]\n",
    "        auc = roc_auc_score(val_y, y_pred)\n",
    "        print(f'{i}-->{auc}')\n",
    "        aucs.append(auc)\n",
    "        \n",
    "    all_aucs[depth] = aucs\n",
    "    print()"
   ]
  },
  {
   "cell_type": "code",
   "execution_count": 82,
   "id": "5b2194fc",
   "metadata": {},
   "outputs": [
    {
     "data": {
      "image/png": "[encoded data removed]",
      "text/plain": [
       "<Figure size 432x288 with 1 Axes>"
      ]
     },
     "metadata": {
      "needs_background": "light"
     },
     "output_type": "display_data"
    }
   ],
   "source": [
    "num_trees = list(range(10,201,10))\n",
    "plt.plot(num_trees, all_aucs[5], label='depth=5')\n",
    "plt.plot(num_trees, all_aucs[10], label='depth=10')\n",
    "plt.plot(num_trees, all_aucs[20], label='depth=20')\n",
    "plt.legend()\n",
    "plt.show()"
   ]
  },
  {
   "cell_type": "code",
   "execution_count": 83,
   "id": "e2d5b6a5",
   "metadata": {},
   "outputs": [
    {
     "name": "stdout",
     "output_type": "stream",
     "text": [
      "min_samples_leaf: 3\n",
      "10-->0.7695752291665194\n",
      "20-->0.7738252786396308\n",
      "30-->0.7736759758571217\n",
      "40-->0.7741190252383543\n",
      "50-->0.7745391049607395\n",
      "60-->0.7750278727975631\n",
      "70-->0.7752463054187192\n",
      "80-->0.7754265288958307\n",
      "90-->0.7752387961071728\n",
      "100-->0.7758927687980155\n",
      "110-->0.7759300944936427\n",
      "120-->0.7759254563894524\n",
      "130-->0.7761847484999045\n",
      "140-->0.77614499332113\n",
      "150-->0.7761739262567937\n",
      "160-->0.7763981012926617\n",
      "170-->0.7762821486879025\n",
      "180-->0.7763411188697513\n",
      "190-->0.7761723802220636\n",
      "200-->0.7762492402343613\n",
      "\n",
      "min_samples_leaf: 5\n",
      "10-->0.7694250429355931\n",
      "20-->0.7737236820716513\n",
      "30-->0.7737972291523842\n",
      "40-->0.7743533599310203\n",
      "50-->0.7742681071587593\n",
      "60-->0.774689291191666\n",
      "70-->0.7750890516004552\n",
      "80-->0.7753379631920051\n",
      "90-->0.7753609328508527\n",
      "100-->0.775942683633588\n",
      "110-->0.7759850891576142\n",
      "120-->0.776065041239372\n",
      "130-->0.776088231760324\n",
      "140-->0.7761047964181466\n",
      "150-->0.7761315207327674\n",
      "160-->0.7763727021506669\n",
      "170-->0.7762200864365932\n",
      "180-->0.7762326755765383\n",
      "190-->0.7760789555519433\n",
      "200-->0.7760436176152546\n",
      "\n",
      "min_samples_leaf: 10\n",
      "10-->0.770396615332424\n",
      "20-->0.7758103872331101\n",
      "30-->0.7758762041401928\n",
      "40-->0.7760197645079899\n",
      "50-->0.7756807411778841\n",
      "60-->0.7758108289573189\n",
      "70-->0.775684274971553\n",
      "80-->0.7756822872126142\n",
      "90-->0.7754468482094268\n",
      "100-->0.7758691365528549\n",
      "110-->0.7759817762260498\n",
      "120-->0.7760246234742846\n",
      "130-->0.7761120848675888\n",
      "140-->0.7762852407573627\n",
      "150-->0.776467451993413\n",
      "160-->0.776511182690065\n",
      "170-->0.7764906425143647\n",
      "180-->0.7765573428698644\n",
      "190-->0.7762852407573627\n",
      "200-->0.7763258793845544\n",
      "\n"
     ]
    }
   ],
   "source": [
    "all_aucs = {}\n",
    "\n",
    "for m in [3,5,10]:\n",
    "    print(f'min_samples_leaf: {m}')\n",
    "    aucs = []\n",
    "    \n",
    "    for i in range(10, 201, 10):\n",
    "        rf = RandomForestClassifier(n_estimators=i, max_depth=5, min_samples_leaf=m, random_state=1)\n",
    "        rf.fit(X_train, train_y)\n",
    "        y_pred = rf.predict_proba(X_val)[:,1]\n",
    "        auc = roc_auc_score(val_y, y_pred)\n",
    "        print(f'{i}-->{auc}')\n",
    "        aucs.append(auc)\n",
    "        \n",
    "    all_aucs[m] = aucs\n",
    "    print()"
   ]
  },
  {
   "cell_type": "code",
   "execution_count": 84,
   "id": "465ff5be",
   "metadata": {},
   "outputs": [
    {
     "data": {
      "image/png": "[encoded data removed]",
      "text/plain": [
       "<Figure size 432x288 with 1 Axes>"
      ]
     },
     "metadata": {
      "needs_background": "light"
     },
     "output_type": "display_data"
    }
   ],
   "source": [
    "num_trees = list(range(10,201,10))\n",
    "plt.plot(num_trees, all_aucs[3], label='min_samples_leaf=3')\n",
    "plt.plot(num_trees, all_aucs[5], label='min_samples_leaf=5')\n",
    "plt.plot(num_trees, all_aucs[10], label='min_samples_leaf=10')\n",
    "plt.legend()\n",
    "plt.show()"
   ]
  },
  {
   "cell_type": "code",
   "execution_count": 85,
   "id": "689d4890",
   "metadata": {},
   "outputs": [
    {
     "data": {
      "text/plain": [
       "0.7765573428698644"
      ]
     },
     "execution_count": 85,
     "metadata": {},
     "output_type": "execute_result"
    }
   ],
   "source": [
    "rf = RandomForestClassifier(n_estimators=180, max_depth=5, min_samples_leaf=10, random_state=1)\n",
    "rf.fit(X_train, train_y)\n",
    "y_pred = rf.predict_proba(X_val)[:,1]\n",
    "roc_auc_score(val_y, y_pred)"
   ]
  },
  {
   "cell_type": "markdown",
   "id": "2b5a9c73",
   "metadata": {},
   "source": [
    "#### Testing the final model"
   ]
  },
  {
   "cell_type": "code",
   "execution_count": 86,
   "id": "76b62963",
   "metadata": {},
   "outputs": [],
   "source": [
    "train_y = (train_full['defaulted']==1).values.reshape(-1,1)"
   ]
  },
  {
   "cell_type": "code",
   "execution_count": 87,
   "id": "b90a0455",
   "metadata": {},
   "outputs": [],
   "source": [
    "del train_full['defaulted']"
   ]
  },
  {
   "cell_type": "code",
   "execution_count": 88,
   "id": "1dc13072",
   "metadata": {},
   "outputs": [],
   "source": [
    "dict_train = train_full.fillna(0).to_dict(orient='records')\n",
    "dict_test = test_X.fillna(0).to_dict(orient='records')\n",
    "\n",
    "dv = DictVectorizer(sparse=False)\n",
    "X_train = dv.fit_transform(dict_train)\n",
    "X_test = dv.transform(dict_test)"
   ]
  },
  {
   "cell_type": "code",
   "execution_count": 89,
   "id": "c34c12f9",
   "metadata": {},
   "outputs": [
    {
     "name": "stdout",
     "output_type": "stream",
     "text": [
      "36\n",
      "36\n"
     ]
    }
   ],
   "source": [
    "print(f'{len(X_train[0])}\\n{len(X_test[0])}')"
   ]
  },
  {
   "cell_type": "code",
   "execution_count": 90,
   "id": "2944234a",
   "metadata": {},
   "outputs": [
    {
     "data": {
      "text/plain": [
       "0.7777075995772571"
      ]
     },
     "execution_count": 90,
     "metadata": {},
     "output_type": "execute_result"
    }
   ],
   "source": [
    "rf = RandomForestClassifier(n_estimators=180, max_depth=5, min_samples_leaf=10, random_state=1)\n",
    "rf.fit(X_train, train_y)\n",
    "y_pred = rf.predict_proba(X_test)[:,1]\n",
    "roc_auc_score(test_y, y_pred)"
   ]
  },
  {
   "cell_type": "code",
   "execution_count": null,
   "id": "84ab7be1",
   "metadata": {},
   "outputs": [],
   "source": []
  }
 ],
 "metadata": {
  "colab": {
   "collapsed_sections": [
    "cf63e7a1",
    "ed6d8763",
    "d253a40d",
    "92d7e261",
    "e22ceaa3",
    "1e41325e",
    "b8da3490"
   ],
   "name": "Credit Default Prediction.ipynb",
   "provenance": []
  },
  "kernelspec": {
   "display_name": "Python 3",
   "language": "python",
   "name": "python3"
  },
  "language_info": {
   "codemirror_mode": {
    "name": "ipython",
    "version": 3
   },
   "file_extension": ".py",
   "mimetype": "text/x-python",
   "name": "python",
   "nbconvert_exporter": "python",
   "pygments_lexer": "ipython3",
   "version": "3.8.8"
  }
 },
 "nbformat": 4,
 "nbformat_minor": 5
}
